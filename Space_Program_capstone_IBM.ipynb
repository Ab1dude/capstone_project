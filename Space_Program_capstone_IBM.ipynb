{
 "cells": [
  {
   "cell_type": "markdown",
   "id": "20c76f19",
   "metadata": {},
   "source": [
    "# **SpaceX  Falcon 9 first stage Landing Prediction**\n"
   ]
  },
  {
   "cell_type": "markdown",
   "id": "4c713f1c",
   "metadata": {},
   "source": [
    "# Lab 1: Collecting the data\n"
   ]
  },
  {
   "cell_type": "markdown",
   "id": "3cfec7e0",
   "metadata": {},
   "source": [
    "> In this capstone, we will predict if the Falcon 9 first stage will land successfully. SpaceX advertises Falcon 9 rocket launches on its website with a cost of 62 million dollars; other providers cost upward of 165 million dollars each, much of the savings is because SpaceX can reuse the first stage. -- -   Therefore **if we can determine if the first stage will land, we can determine the cost of a launch**. This information can be used if an alternate company wants to bid against SpaceX for a rocket launch."
   ]
  },
  {
   "cell_type": "code",
   "execution_count": null,
   "id": "c67d05a5",
   "metadata": {},
   "outputs": [],
   "source": [
    "![](https://cf-courses-data.s3.us.cloud-object-storage.appdomain.cloud/IBMDeveloperSkillsNetwork-DS0701EN-SkillsNetwork/lab_v2/images/landing_1.gif)\n"
   ]
  },
  {
   "cell_type": "markdown",
   "id": "27c9a3c1",
   "metadata": {},
   "source": [
    "> Several examples of an unsuccessful landing are shown here:\n"
   ]
  },
  {
   "cell_type": "code",
   "execution_count": null,
   "id": "9dc44a17",
   "metadata": {},
   "outputs": [],
   "source": [
    "![Crash Image](https://cf-courses-data.s3.us.cloud-object-storage.appdomain.cloud/IBMDeveloperSkillsNetwork-DS0701EN-SkillsNetwork/lab_v2/images/crash.gif)\n"
   ]
  },
  {
   "cell_type": "markdown",
   "id": "691a62bb",
   "metadata": {},
   "source": [
    "## Objectives"
   ]
  },
  {
   "cell_type": "markdown",
   "id": "8993d5d7",
   "metadata": {},
   "source": [
    "Wr will make a **get request** to the SpaceX API. We will also do some basic data wrangling and formating. \n",
    "\n",
    "- Request to the SpaceX API\n",
    "- Clean the requested data"
   ]
  },
  {
   "cell_type": "markdown",
   "id": "366200a7",
   "metadata": {},
   "source": [
    "- We will be working with SpaceX launch data that is gathered from an API, specifically the SpaceX REST API. This API will give us data about launches, including information about the rocket used, payload delivered, launch specifications, landing specifications, and landing outcome.\n",
    "- Our goal is to use this data to predict whether SpaceX will attempt to land a rocket or not.\n",
    "- The SpaceX REST API endpoints, or URL, starts with **api.spacexdata.com/v4/** .\n",
    "- We have the different end points, for example: /capsules and /cores. We will be working with the endpoint **api.spacexdata.com/v4/launches/past**."
   ]
  },
  {
   "cell_type": "markdown",
   "id": "e87d670a",
   "metadata": {},
   "source": [
    "## Import Libraries and Define Auxiliary Functions\n"
   ]
  },
  {
   "cell_type": "code",
   "execution_count": 1,
   "id": "6191ebcd",
   "metadata": {},
   "outputs": [],
   "source": [
    "# Requests allows us to make HTTP requests which we will use\n",
    "# to get data from an API\n",
    "import requests\n",
    "\n",
    "# Datetime is a library that allows us to represent dates\n",
    "import datetime\n",
    "\n",
    "import pandas as pd\n",
    "import numpy as np\n",
    "import matplotlib.pyplot as plt\n",
    "import seaborn as sns\n",
    "import warnings\n",
    "warnings.filterwarnings('ignore')\n",
    "\n",
    "# Setting this option will print all collumns of a dataframe\n",
    "pd.set_option('display.max_columns', None)\n",
    "# Setting this option will print all of the data in a feature\n",
    "pd.set_option('display.max_colwidth', None)"
   ]
  },
  {
   "cell_type": "markdown",
   "id": "aa484d05",
   "metadata": {},
   "source": [
    "### Defining a series of helper functions"
   ]
  },
  {
   "cell_type": "markdown",
   "id": "65af2458",
   "metadata": {},
   "source": [
    "* Below we will define a series of helper functions that will help us use the API to extract information using identification numbers in the launch data.\n",
    "\n",
    "From the <code>rocket</code> column we would like to learn the booster name.\n"
   ]
  },
  {
   "cell_type": "code",
   "execution_count": null,
   "id": "c6205552",
   "metadata": {},
   "outputs": [],
   "source": [
    "# Takes the dataset and uses the rocket column to call the API and append the data to the list\n",
    "def getBoosterVersion(data):\n",
    "    for x in data['rocket']:\n",
    "       if x:\n",
    "        response = requests.get(\"https://api.spacexdata.com/v4/rockets/\"+str(x)).json()\n",
    "        BoosterVersion.append(response['name'])"
   ]
  },
  {
   "cell_type": "markdown",
   "id": "2aac252d",
   "metadata": {},
   "source": [
    "From the <code>launchpad</code> we would like to know the name of the launch site being used, the logitude, and the latitude.\n"
   ]
  },
  {
   "cell_type": "code",
   "execution_count": null,
   "id": "27070920",
   "metadata": {},
   "outputs": [],
   "source": [
    "# Takes the dataset and uses the launchpad column to call the API and append the data to the list\n",
    "def getLaunchSite(data):\n",
    "    for x in data['launchpad']:\n",
    "       if x:\n",
    "         response = requests.get(\"https://api.spacexdata.com/v4/launchpads/\"+str(x)).json()\n",
    "         Longitude.append(response['longitude'])\n",
    "         Latitude.append(response['latitude'])\n",
    "         LaunchSite.append(response['name'])"
   ]
  },
  {
   "cell_type": "markdown",
   "id": "b7707901",
   "metadata": {},
   "source": [
    "From the <code>payload</code> we would like to learn the mass of the payload and the orbit that it is going to."
   ]
  },
  {
   "cell_type": "code",
   "execution_count": null,
   "id": "e91684be",
   "metadata": {},
   "outputs": [],
   "source": [
    "# Takes the dataset and uses the payloads column to call the API and append the data to the lists\n",
    "def getPayloadData(data):\n",
    "    for load in data['payloads']:\n",
    "       if load:\n",
    "        response = requests.get(\"https://api.spacexdata.com/v4/payloads/\"+load).json()\n",
    "        PayloadMass.append(response['mass_kg'])\n",
    "        Orbit.append(response['orbit'])"
   ]
  },
  {
   "cell_type": "markdown",
   "id": "70457df1",
   "metadata": {},
   "source": [
    "From <code>cores</code> we would like to learn the outcome of the landing, the type of the landing, number of flights with that core, whether gridfins were used, wheter the core is reused, wheter legs were used, the landing pad used, the block of the core which is a number used to seperate version of cores, the number of times this specific core has been reused, and the serial of the core.\n"
   ]
  },
  {
   "cell_type": "code",
   "execution_count": null,
   "id": "1b7a5eb6",
   "metadata": {},
   "outputs": [],
   "source": [
    "# Takes the dataset and uses the cores column to call the API and append the data to the lists\n",
    "def getCoreData(data):\n",
    "    for core in data['cores']:\n",
    "            if core['core'] != None:\n",
    "                response = requests.get(\"https://api.spacexdata.com/v4/cores/\"+core['core']).json()\n",
    "                Block.append(response['block'])\n",
    "                ReusedCount.append(response['reuse_count'])\n",
    "                Serial.append(response['serial'])\n",
    "            else:\n",
    "                Block.append(None)\n",
    "                ReusedCount.append(None)\n",
    "                Serial.append(None)\n",
    "            Outcome.append(str(core['landing_success'])+' '+str(core['landing_type']))\n",
    "            Flights.append(core['flight'])\n",
    "            GridFins.append(core['gridfins'])\n",
    "            Reused.append(core['reused'])\n",
    "            Legs.append(core['legs'])\n",
    "            LandingPad.append(core['landpad'])"
   ]
  },
  {
   "cell_type": "markdown",
   "id": "7a16eddb",
   "metadata": {},
   "source": [
    "> Now let's start requesting rocket launch data from SpaceX API with the following URL:"
   ]
  },
  {
   "cell_type": "code",
   "execution_count": null,
   "id": "6a17d5da",
   "metadata": {},
   "outputs": [],
   "source": [
    "spacex_url=\"https://api.spacexdata.com/v4/launches/past\""
   ]
  },
  {
   "cell_type": "code",
   "execution_count": null,
   "id": "966c086b",
   "metadata": {},
   "outputs": [],
   "source": [
    "response = requests.get(spacex_url)"
   ]
  },
  {
   "cell_type": "code",
   "execution_count": null,
   "id": "677deb8e",
   "metadata": {},
   "outputs": [],
   "source": [
    "# Check the content of the response\n",
    "print(response.content)"
   ]
  },
  {
   "cell_type": "markdown",
   "id": "a8969e59",
   "metadata": {},
   "source": [
    "We can see that the <code>response</code> contains massive information about SpaceX launches. Next, let's try to discover some more relevant information for this project."
   ]
  },
  {
   "cell_type": "markdown",
   "id": "be9ad498",
   "metadata": {},
   "source": [
    "**Requesting and parse the SpaceX launch data using the GET request**"
   ]
  },
  {
   "cell_type": "markdown",
   "id": "8d245d78",
   "metadata": {},
   "source": [
    "To make the requested JSON results more consistent, we will use the following static response object for this project:"
   ]
  },
  {
   "cell_type": "code",
   "execution_count": null,
   "id": "11bd4ec7",
   "metadata": {},
   "outputs": [],
   "source": [
    "static_json_url='https://cf-courses-data.s3.us.cloud-object-storage.appdomain.cloud/IBM-DS0321EN-SkillsNetwork/datasets/API_call_spacex_api.json'"
   ]
  },
  {
   "cell_type": "markdown",
   "id": "4a44a9c3",
   "metadata": {},
   "source": [
    "We should see that the request was successfull with the 200 status response code"
   ]
  },
  {
   "cell_type": "code",
   "execution_count": null,
   "id": "87059625",
   "metadata": {},
   "outputs": [],
   "source": [
    "response.status_code"
   ]
  },
  {
   "cell_type": "markdown",
   "id": "6d88b419",
   "metadata": {},
   "source": [
    "Now we decode the response content as a Json using <code>.json()</code> and turn it into a Pandas dataframe using <code>.json_normalize()</code>"
   ]
  },
  {
   "cell_type": "code",
   "execution_count": null,
   "id": "670c886b",
   "metadata": {},
   "outputs": [],
   "source": [
    "# Use json_normalize meethod to convert the json result into a dataframe\n",
    "\n",
    "# 1. Decode the JSON response content\n",
    "data = response.json()\n",
    "\n",
    "# 2. Create a Pandas DataFrame using json_normalize\n",
    "df = pd.json_normalize(data)"
   ]
  },
  {
   "cell_type": "code",
   "execution_count": null,
   "id": "0606564d",
   "metadata": {},
   "outputs": [],
   "source": [
    "df.head(2)"
   ]
  },
  {
   "cell_type": "code",
   "execution_count": null,
   "id": "787aec1d",
   "metadata": {},
   "outputs": [],
   "source": [
    "df.shape"
   ]
  },
  {
   "cell_type": "markdown",
   "id": "66658c1e",
   "metadata": {},
   "source": [
    "- We notice that a lot of the data are IDs. For example the rocket column has no information about the rocket just an identification number.\n",
    "\n",
    "- We will now use the API again to get information about the launches using the IDs given for each launch. Specifically we will be using columns rocket, payloads, launchpad, and cores."
   ]
  },
  {
   "cell_type": "code",
   "execution_count": null,
   "id": "803b1380",
   "metadata": {},
   "outputs": [],
   "source": [
    "# Lets take a subset of our dataframe keeping only the features we want and the flight number, and date_utc.\n",
    "df = df[['rocket', 'payloads', 'launchpad', 'cores', 'flight_number', 'date_utc']]\n",
    "\n",
    "# We will remove rows with multiple cores because those are falcon rockets with 2 extra rocket boosters and rows that have multiple payloads in a single rocket.\n",
    "df = df[df['cores'].map(len)==1]\n",
    "df = df[df['payloads'].map(len)==1]\n",
    "\n",
    "# Since payloads and cores are lists of size 1 we will also extract the single value in the list and replace the feature.\n",
    "df['cores'] = df['cores'].map(lambda x : x[0])\n",
    "df['payloads'] = df['payloads'].map(lambda x : x[0])\n",
    "\n",
    "# We also want to convert the date_utc to a datetime datatype and then extracting the date leaving the time\n",
    "df['date'] = pd.to_datetime(df['date_utc']).dt.date\n",
    "\n",
    "# Using the date we will restrict the dates of the launches\n",
    "df = df[df['date'] <= datetime.date(2020, 11, 13)]"
   ]
  },
  {
   "cell_type": "code",
   "execution_count": null,
   "id": "e1e75e1f",
   "metadata": {},
   "outputs": [],
   "source": [
    "df.head(3)"
   ]
  },
  {
   "cell_type": "markdown",
   "id": "e95df5bd",
   "metadata": {},
   "source": [
    "* From the <code>rocket</code> we would like to learn the booster name\n",
    "\n",
    "* From the <code>payload</code> we would like to learn the mass of the payload and the orbit that it is going to\n",
    "\n",
    "* From the <code>launchpad</code> we would like to know the name of the launch site being used, the longitude, and the latitude.\n",
    "\n",
    "* From <code>cores</code> we would like to learn the outcome of the landing, the type of the landing, number of flights with that core, whether gridfins were used, whether the core is reused, whether legs were used, the landing pad used, the block of the core which is a number used to seperate version of cores, the number of times this specific core has been reused, and the serial of the core.\n",
    "\n",
    "**The data from these requests will be stored in lists and will be used to create a new dataframe.**"
   ]
  },
  {
   "cell_type": "code",
   "execution_count": null,
   "id": "65dc47f1",
   "metadata": {},
   "outputs": [],
   "source": [
    "#Global variables\n",
    "\n",
    "BoosterVersion = []\n",
    "PayloadMass = []\n",
    "Orbit = []\n",
    "LaunchSite = []\n",
    "Outcome = []\n",
    "Flights = []\n",
    "GridFins = []\n",
    "Reused = []\n",
    "Legs = []\n",
    "LandingPad = []\n",
    "Block = []\n",
    "ReusedCount = []\n",
    "Serial = []\n",
    "Longitude = []\n",
    "Latitude = []"
   ]
  },
  {
   "cell_type": "markdown",
   "id": "5242c5dd",
   "metadata": {},
   "source": [
    "**These defined functions will apply the outputs globally to the above variables.** Let's take a looks at <code>BoosterVersion</code> variable. Before we apply  <code>getBoosterVersion</code> the list is empty:"
   ]
  },
  {
   "cell_type": "code",
   "execution_count": null,
   "id": "50302493",
   "metadata": {},
   "outputs": [],
   "source": [
    "BoosterVersion"
   ]
  },
  {
   "cell_type": "markdown",
   "id": "6b873ba7",
   "metadata": {},
   "source": [
    "**Applying <code> getBoosterVersion</code> function method to get the booster version**"
   ]
  },
  {
   "cell_type": "code",
   "execution_count": null,
   "id": "8c7f5735",
   "metadata": {},
   "outputs": [],
   "source": [
    "# Call getBoosterVersion\n",
    "getBoosterVersion(df)"
   ]
  },
  {
   "cell_type": "code",
   "execution_count": null,
   "id": "2e09dc92",
   "metadata": {},
   "outputs": [],
   "source": [
    "# the list has now been updated\n",
    "BoosterVersion[0:5]"
   ]
  },
  {
   "cell_type": "markdown",
   "id": "222e73c9",
   "metadata": {},
   "source": [
    "**We can apply the rest of the  functions here:**"
   ]
  },
  {
   "cell_type": "code",
   "execution_count": null,
   "id": "cf82b8c0",
   "metadata": {},
   "outputs": [],
   "source": [
    "# Call getLaunchSite\n",
    "getLaunchSite(df)"
   ]
  },
  {
   "cell_type": "code",
   "execution_count": null,
   "id": "aabb3ab0",
   "metadata": {},
   "outputs": [],
   "source": [
    "# Call getPayloadData\n",
    "getPayloadData(df)"
   ]
  },
  {
   "cell_type": "code",
   "execution_count": null,
   "id": "88d65aab",
   "metadata": {},
   "outputs": [],
   "source": [
    "# Call getCoreData\n",
    "getCoreData(df)"
   ]
  },
  {
   "cell_type": "markdown",
   "id": "074c211c",
   "metadata": {},
   "source": [
    "**Finally, lets construct our dataset using the data we have obtained. We'll combine the columns into a dictionary *launch_dict*.**"
   ]
  },
  {
   "cell_type": "code",
   "execution_count": null,
   "id": "3ad03f0d",
   "metadata": {},
   "outputs": [],
   "source": [
    "launch_dict = {'FlightNumber': list(df['flight_number']),\n",
    "'Date': list(df['date']),\n",
    "'BoosterVersion':BoosterVersion,\n",
    "'PayloadMass':PayloadMass,\n",
    "'Orbit':Orbit,\n",
    "'LaunchSite':LaunchSite,\n",
    "'Outcome':Outcome,\n",
    "'Flights':Flights,\n",
    "'GridFins':GridFins,\n",
    "'Reused':Reused,\n",
    "'Legs':Legs,\n",
    "'LandingPad':LandingPad,\n",
    "'Block':Block,\n",
    "'ReusedCount':ReusedCount,\n",
    "'Serial':Serial,\n",
    "'Longitude': Longitude,\n",
    "'Latitude': Latitude}"
   ]
  },
  {
   "cell_type": "markdown",
   "id": "9f19cb33",
   "metadata": {},
   "source": [
    "**Creating a Pandas dataframe from the dictionary *launch_dict*.**"
   ]
  },
  {
   "cell_type": "code",
   "execution_count": null,
   "id": "e96026a2",
   "metadata": {},
   "outputs": [],
   "source": [
    "# Create a data from launch_dict\n",
    "df = pd.DataFrame(launch_dict)"
   ]
  },
  {
   "cell_type": "code",
   "execution_count": null,
   "id": "2c8d6287",
   "metadata": {},
   "outputs": [],
   "source": [
    "# Show the Summary of the dataframe\n",
    "df.sample(3)"
   ]
  },
  {
   "cell_type": "markdown",
   "id": "f5c2662a",
   "metadata": {},
   "source": [
    "### Filtering the dataframe to only include *`Falcon 9`* launches"
   ]
  },
  {
   "cell_type": "markdown",
   "id": "9aa84649",
   "metadata": {},
   "source": [
    "Finally we will remove the Falcon 1 launches keeping only the Falcon 9 launches. Filter the data dataframe using the <code>BoosterVersion</code> column to only keep the Falcon 9 launches. Save the filtered data to a new dataframe called <code>df_falcon9</code>."
   ]
  },
  {
   "cell_type": "code",
   "execution_count": null,
   "id": "c6bf0169",
   "metadata": {},
   "outputs": [],
   "source": [
    "df_falcon9 = df[df['BoosterVersion'] != 'Falcon 1']"
   ]
  },
  {
   "cell_type": "markdown",
   "id": "269c4897",
   "metadata": {},
   "source": [
    "- Now that we have removed some values we should reset the FlgihtNumber column"
   ]
  },
  {
   "cell_type": "code",
   "execution_count": null,
   "id": "74214549",
   "metadata": {},
   "outputs": [],
   "source": [
    "df_falcon9.loc[:,'FlightNumber'] = list(range(1, df_falcon9.shape[0]+1))\n",
    "df_falcon9"
   ]
  },
  {
   "cell_type": "code",
   "execution_count": null,
   "id": "e0603e21",
   "metadata": {},
   "outputs": [],
   "source": [
    "df_copy=df_falcon9.copy(deep=True)"
   ]
  },
  {
   "cell_type": "markdown",
   "id": "24716067",
   "metadata": {},
   "source": [
    "## Data Wrangling"
   ]
  },
  {
   "cell_type": "markdown",
   "id": "d5275a4b",
   "metadata": {},
   "source": [
    "We can see below that some of the rows are missing values in our dataset."
   ]
  },
  {
   "cell_type": "code",
   "execution_count": null,
   "id": "e5fded13",
   "metadata": {},
   "outputs": [],
   "source": [
    "df_copy.isnull().sum()"
   ]
  },
  {
   "cell_type": "markdown",
   "id": "6b60d9dd",
   "metadata": {},
   "source": [
    "Before we can continue we must deal with these missing values. The <code>LandingPad</code> column will retain None values to represent when landing pads were not used."
   ]
  },
  {
   "cell_type": "markdown",
   "id": "0656e2de",
   "metadata": {},
   "source": [
    "**Dealing with Missing Values**"
   ]
  },
  {
   "cell_type": "markdown",
   "id": "713c32c2",
   "metadata": {},
   "source": [
    "Calculate below the mean for the <code>PayloadMass</code> using the <code>.mean()</code>. Then use the mean and the <code>.replace()</code> function to replace `np.nan` values in the data with the mean you calculated."
   ]
  },
  {
   "cell_type": "code",
   "execution_count": null,
   "id": "75820ee1",
   "metadata": {},
   "outputs": [],
   "source": [
    "# Calculating the mean value of PayloadMass column\n",
    "mean_payload_mass = df_copy['PayloadMass'].mean()\n",
    "\n",
    "# Replace the np.nan values with its mean value\n",
    "df_copy['PayloadMass'].fillna(mean_payload_mass, inplace=True)"
   ]
  },
  {
   "cell_type": "code",
   "execution_count": null,
   "id": "53841bc1",
   "metadata": {},
   "outputs": [],
   "source": [
    "df_copy.isnull().sum()"
   ]
  },
  {
   "cell_type": "markdown",
   "id": "ced697b1",
   "metadata": {},
   "source": [
    "- We can see that the number of missing values of the <code>PayLoadMass</code> change to zero.\n",
    "- Now we should have no missing values in our dataset except for in <code>LandingPad</code>.\n",
    "- We can now export it to a <b>CSV</b> for the next section,but to make the answers consistent, in the next lab we will provide data in a pre-selected date range. "
   ]
  },
  {
   "cell_type": "code",
   "execution_count": null,
   "id": "6350d42c",
   "metadata": {},
   "outputs": [],
   "source": [
    "df_copy.to_csv('dataset_part_1.csv', index=False)"
   ]
  },
  {
   "cell_type": "markdown",
   "id": "0f7bc64f",
   "metadata": {},
   "source": [
    "## LAB2:- Web scraping Falcon 9 and Falcon Heavy Launches Records from Wikipedia"
   ]
  },
  {
   "cell_type": "code",
   "execution_count": null,
   "id": "ec86a8b8",
   "metadata": {},
   "outputs": [],
   "source": [
    "!pip3 install beautifulsoup4\n",
    "!pip3 install requests"
   ]
  },
  {
   "cell_type": "code",
   "execution_count": null,
   "id": "bbf713e5",
   "metadata": {},
   "outputs": [],
   "source": [
    "import sys\n",
    "\n",
    "import requests\n",
    "from bs4 import BeautifulSoup\n",
    "import re\n",
    "import unicodedata"
   ]
  },
  {
   "cell_type": "code",
   "execution_count": null,
   "id": "386f551c",
   "metadata": {},
   "outputs": [],
   "source": [
    "def date_time(table_cells):\n",
    "    \"\"\"\n",
    "    This function returns the data and time from the HTML  table cell\n",
    "    Input: the  element of a table data cell extracts extra row\n",
    "    \"\"\"\n",
    "    return [data_time.strip() for data_time in list(table_cells.strings)][0:2]\n",
    "\n",
    "def booster_version(table_cells):\n",
    "    \"\"\"\n",
    "    This function returns the booster version from the HTML  table cell \n",
    "    Input: the  element of a table data cell extracts extra row\n",
    "    \"\"\"\n",
    "    out=''.join([booster_version for i,booster_version in enumerate( table_cells.strings) if i%2==0][0:-1])\n",
    "    return out\n",
    "\n",
    "def landing_status(table_cells):\n",
    "    \"\"\"\n",
    "    This function returns the landing status from the HTML table cell \n",
    "    Input: the  element of a table data cell extracts extra row\n",
    "    \"\"\"\n",
    "    out=[i for i in table_cells.strings][0]\n",
    "    return out\n",
    "\n",
    "\n",
    "def get_mass(table_cells):\n",
    "    mass=unicodedata.normalize(\"NFKD\", table_cells.text).strip()\n",
    "    if mass:\n",
    "        mass.find(\"kg\")\n",
    "        new_mass=mass[0:mass.find(\"kg\")+2]\n",
    "    else:\n",
    "        new_mass=0\n",
    "    return new_mass\n",
    "\n",
    "\n",
    "def extract_column_from_header(row):\n",
    "    \"\"\"\n",
    "    This function returns the landing status from the HTML table cell \n",
    "    Input: the  element of a table data cell extracts extra row\n",
    "    \"\"\"\n",
    "    if (row.br):\n",
    "        row.br.extract()\n",
    "    if row.a:\n",
    "        row.a.extract()\n",
    "    if row.sup:\n",
    "        row.sup.extract()\n",
    "        \n",
    "    colunm_name = ' '.join(row.contents)\n",
    "    \n",
    "    # Filter the digit and empty names\n",
    "    if not(colunm_name.strip().isdigit()):\n",
    "        colunm_name = colunm_name.strip()\n",
    "        return colunm_name    \n"
   ]
  },
  {
   "cell_type": "code",
   "execution_count": null,
   "id": "c6c91153",
   "metadata": {},
   "outputs": [],
   "source": [
    "def date_time(table_cells):\n",
    "    \"\"\"\n",
    "    This function returns the data and time from the HTML  table cell\n",
    "    Input: the  element of a table data cell extracts extra row\n",
    "    \"\"\"\n",
    "    return [data_time.strip() for data_time in list(table_cells.strings)][0:2]\n",
    "\n",
    "def booster_version(table_cells):\n",
    "    \"\"\"\n",
    "    This function returns the booster version from the HTML  table cell \n",
    "    Input: the  element of a table data cell extracts extra row\n",
    "    \"\"\"\n",
    "    out=''.join([booster_version for i,booster_version in enumerate( table_cells.strings) if i%2==0][0:-1])\n",
    "    return out\n",
    "\n",
    "def landing_status(table_cells):\n",
    "    \"\"\"\n",
    "    This function returns the landing status from the HTML table cell \n",
    "    Input: the  element of a table data cell extracts extra row\n",
    "    \"\"\"\n",
    "    out=[i for i in table_cells.strings][0]\n",
    "    return out\n",
    "\n",
    "\n",
    "def get_mass(table_cells):\n",
    "    mass=unicodedata.normalize(\"NFKD\", table_cells.text).strip()\n",
    "    if mass:\n",
    "        mass.find(\"kg\")\n",
    "        new_mass=mass[0:mass.find(\"kg\")+2]\n",
    "    else:\n",
    "        new_mass=0\n",
    "    return new_mass\n",
    "\n",
    "\n",
    "def extract_column_from_header(row):\n",
    "    \"\"\"\n",
    "    This function returns the landing status from the HTML table cell \n",
    "    Input: the  element of a table data cell extracts extra row\n",
    "    \"\"\"\n",
    "    if (row.br):\n",
    "        row.br.extract()\n",
    "    if row.a:\n",
    "        row.a.extract()\n",
    "    if row.sup:\n",
    "        row.sup.extract()\n",
    "        \n",
    "    colunm_name = ' '.join(row.contents)\n",
    "    \n",
    "    # Filter the digit and empty names\n",
    "    if not(colunm_name.strip().isdigit()):\n",
    "        colunm_name = colunm_name.strip()\n",
    "        return colunm_name    \n"
   ]
  },
  {
   "cell_type": "code",
   "execution_count": null,
   "id": "3b0d83d9",
   "metadata": {},
   "outputs": [],
   "source": [
    "def date_time(table_cells):\n",
    "    \"\"\"\n",
    "    This function returns the data and time from the HTML  table cell\n",
    "    Input: the  element of a table data cell extracts extra row\n",
    "    \"\"\"\n",
    "    return [data_time.strip() for data_time in list(table_cells.strings)][0:2]\n",
    "\n",
    "def booster_version(table_cells):\n",
    "    \"\"\"\n",
    "    This function returns the booster version from the HTML  table cell \n",
    "    Input: the  element of a table data cell extracts extra row\n",
    "    \"\"\"\n",
    "    out=''.join([booster_version for i,booster_version in enumerate( table_cells.strings) if i%2==0][0:-1])\n",
    "    return out\n",
    "\n",
    "def landing_status(table_cells):\n",
    "    \"\"\"\n",
    "    This function returns the landing status from the HTML table cell \n",
    "    Input: the  element of a table data cell extracts extra row\n",
    "    \"\"\"\n",
    "    out=[i for i in table_cells.strings][0]\n",
    "    return out\n",
    "\n",
    "\n",
    "def get_mass(table_cells):\n",
    "    mass=unicodedata.normalize(\"NFKD\", table_cells.text).strip()\n",
    "    if mass:\n",
    "        mass.find(\"kg\")\n",
    "        new_mass=mass[0:mass.find(\"kg\")+2]\n",
    "    else:\n",
    "        new_mass=0\n",
    "    return new_mass\n",
    "\n",
    "\n",
    "def extract_column_from_header(row):\n",
    "    \"\"\"\n",
    "    This function returns the landing status from the HTML table cell \n",
    "    Input: the  element of a table data cell extracts extra row\n",
    "    \"\"\"\n",
    "    if (row.br):\n",
    "        row.br.extract()\n",
    "    if row.a:\n",
    "        row.a.extract()\n",
    "    if row.sup:\n",
    "        row.sup.extract()\n",
    "        \n",
    "    colunm_name = ' '.join(row.contents)\n",
    "    \n",
    "    # Filter the digit and empty names\n",
    "    if not(colunm_name.strip().isdigit()):\n",
    "        colunm_name = colunm_name.strip()\n",
    "        return colunm_name    \n"
   ]
  },
  {
   "cell_type": "markdown",
   "id": "b92bcf6a",
   "metadata": {},
   "source": [
    "To keep the lab tasks consistent, you will be asked to scrape the data from a snapshot of the  `List of Falcon 9 and Falcon Heavy launches` Wikipage updated on\n",
    "`9th June 2021`"
   ]
  },
  {
   "cell_type": "code",
   "execution_count": null,
   "id": "49fc2f38",
   "metadata": {},
   "outputs": [],
   "source": [
    "static_url = \"https://en.wikipedia.org/w/index.php?title=List_of_Falcon_9_and_Falcon_Heavy_launches&oldid=1027686922\""
   ]
  },
  {
   "cell_type": "code",
   "execution_count": null,
   "id": "6678aa0a",
   "metadata": {},
   "outputs": [],
   "source": [
    "response = requests.get(static_url)"
   ]
  },
  {
   "cell_type": "code",
   "execution_count": null,
   "id": "18612538",
   "metadata": {},
   "outputs": [],
   "source": [
    "if response.status_code == 200:\n",
    "   # status-code == 200 means \"OK\" and indicates that the request was successful.  \n",
    "   # Create a BeautifulSoup object from the response content\n",
    "    soup = BeautifulSoup(response.content, 'html.parser')\n",
    "    # Now, We can work with the 'soup' object to parse and manipulate the HTML content\n",
    "else:\n",
    "    print(f\"Failed to retrieve the page. Status code: {response.status_code}\")"
   ]
  },
  {
   "cell_type": "code",
   "execution_count": null,
   "id": "b724ab05",
   "metadata": {},
   "outputs": [],
   "source": [
    "# Use soup.title attribute\n",
    "print(\"Page Title:\", soup.title.string)"
   ]
  },
  {
   "cell_type": "code",
   "execution_count": null,
   "id": "d61fc84c",
   "metadata": {},
   "outputs": [],
   "source": [
    "html_tables = soup.find_all('table')  \n",
    "first_launch_table = html_tables[2]\n",
    "\n",
    "column_names = []\n",
    "for th in first_launch_table.find_all(\"th\"):\n",
    "    name = extract_column_from_header(th)\n",
    "    if name is not None and len(name) > 0:\n",
    "        column_names.append(name)\n",
    "\n",
    "launch_dict = dict.fromkeys(column_names) \n",
    "del launch_dict['Date and time ( )']\n",
    "\n",
    "launch_dict['Flight No.'] = []\n",
    "launch_dict['Launch site'] = [] \n",
    "launch_dict['Payload'] = []\n",
    "launch_dict['Payload mass'] = []\n",
    "launch_dict['Orbit'] = []\n",
    "launch_dict['Customer'] = [] \n",
    "launch_dict['Launch outcome'] = []\n",
    "launch_dict['Version Booster'] = []\n",
    "launch_dict['Booster landing'] = []\n",
    "launch_dict['Date'] = []\n",
    "launch_dict['Time'] = []\n",
    "\n",
    "print(column_names)"
   ]
  },
  {
   "cell_type": "code",
   "execution_count": null,
   "id": "e60a7ace",
   "metadata": {},
   "outputs": [],
   "source": [
    "extracted_row = 0\n",
    "#Extract each table \n",
    "for table_number,table in enumerate(soup.find_all('table',\"wikitable plainrowheaders collapsible\")):\n",
    "   # get table row \n",
    "    for rows in table.find_all(\"tr\"):\n",
    "        #check to see if first table heading is as number corresponding to launch a number \n",
    "        if rows.th:\n",
    "            if rows.th.string:\n",
    "                flight_number=rows.th.string.strip()\n",
    "                flag=flight_number.isdigit()\n",
    "        else:\n",
    "            flag=False\n",
    "        #get table element \n",
    "        row=rows.find_all('td')\n",
    "        #if it is number save cells in a dictonary \n",
    "        if flag:\n",
    "            extracted_row += 1\n",
    "            # Flight Number value\n",
    "            # TODO: Append the flight_number into launch_dict with key `Flight No.`\n",
    "            #print(flight_number)\n",
    "            datatimelist=date_time(row[0])\n",
    "            \n",
    "            # Date value\n",
    "            # TODO: Append the date into launch_dict with key `Date`\n",
    "            date = datatimelist[0].strip(',')\n",
    "            #print(date)\n",
    "            \n",
    "            # Time value\n",
    "            # TODO: Append the time into launch_dict with key `Time`\n",
    "            time = datatimelist[1]\n",
    "            #print(time)\n",
    "              \n",
    "            # Booster version\n",
    "            # TODO: Append the bv into launch_dict with key `Version Booster`\n",
    "            bv=booster_version(row[1])\n",
    "            if not(bv):\n",
    "                bv=row[1].a.string\n",
    "            print(bv)\n",
    "            \n",
    "            # Launch Site\n",
    "            # TODO: Append the bv into launch_dict with key `Launch Site`\n",
    "            launch_site = row[2].a.string\n",
    "            #print(launch_site)\n",
    "            \n",
    "            # Payload\n",
    "            # TODO: Append the payload into launch_dict with key `Payload`\n",
    "            payload = row[3].a.string\n",
    "            #print(payload)\n",
    "            \n",
    "            # Payload Mass\n",
    "            # TODO: Append the payload_mass into launch_dict with key `Payload mass`\n",
    "            payload_mass = get_mass(row[4])\n",
    "            #print(payload)\n",
    "            \n",
    "            # Orbit\n",
    "            # TODO: Append the orbit into launch_dict with key `Orbit`\n",
    "            orbit = row[5].a.string\n",
    "            #print(orbit)\n",
    "            \n",
    "            # Customer\n",
    "            # TODO: Append the customer into launch_dict with key `Customer`\n",
    "            customer = row[6].a.string\n",
    "            #print(customer)\n",
    "            \n",
    "            # Launch outcome\n",
    "            # TODO: Append the launch_outcome into launch_dict with key `Launch outcome`\n",
    "            launch_outcome = list(row[7].strings)[0]\n",
    "            #print(launch_outcome)\n",
    "            \n",
    "            # Booster landing\n",
    "            # TODO: Append the launch_outcome into launch_dict with key `Booster landing`\n",
    "            booster_landing = landing_status(row[8])\n",
    "            #print(booster_landing)\n",
    "            "
   ]
  },
  {
   "cell_type": "code",
   "execution_count": null,
   "id": "201f992f",
   "metadata": {},
   "outputs": [],
   "source": [
    "df = pd.DataFrame({ key:pd.Series(value) for key, value in launch_dict.items() })"
   ]
  },
  {
   "cell_type": "code",
   "execution_count": null,
   "id": "5350dbc6",
   "metadata": {},
   "outputs": [],
   "source": [
    "df.to_csv('spacex_web_scraped.csv', index=False)"
   ]
  },
  {
   "cell_type": "code",
   "execution_count": null,
   "id": "a4a197ef",
   "metadata": {},
   "outputs": [],
   "source": [
    "data=pd.read_csv(\"spacex_web_scraped.csv\")\n",
    "data.head()"
   ]
  },
  {
   "cell_type": "markdown",
   "id": "fafb5fe2",
   "metadata": {},
   "source": [
    "## Exploring and Preparing Data"
   ]
  },
  {
   "cell_type": "markdown",
   "id": "baf58878",
   "metadata": {},
   "source": [
    "- We will explore data to find some patterns in the data and determine what would be the label for training supervised models. \n",
    "\n",
    "- In the data set, there are several different cases where the booster did not land successfully. Sometimes a landing was attempted but failed due to an accident; for example, <code>True Ocean</code> means the mission outcome was successfully  landed to a specific region of the ocean while <code>False Ocean</code> means the mission outcome was unsuccessfully landed to a specific region of the ocean.\n",
    "- <code>True RTLS</code> means the mission outcome was successfully  landed to a ground pad <code>False RTLS</code> means the mission outcome was unsuccessfully landed to a ground pad.<code>True ASDS</code> means the mission outcome was successfully landed on  a drone ship <code>False ASDS</code> means the mission outcome was unsuccessfully landed on a drone ship. \n",
    "\n",
    "- We will mainly convert those outcomes into Training Labels with **`1`** means the booster **successfully landed** and **`0`** means it was **unsuccessful**."
   ]
  },
  {
   "cell_type": "markdown",
   "id": "5e55e0ec",
   "metadata": {},
   "source": [
    "Load Space X dataset, from last section."
   ]
  },
  {
   "cell_type": "code",
   "execution_count": null,
   "id": "f9f329b8",
   "metadata": {},
   "outputs": [],
   "source": [
    "cleaned_df=df_copy.copy(deep=True)\n",
    "cleaned_df.sample(3)"
   ]
  },
  {
   "cell_type": "markdown",
   "id": "5b9d2b26",
   "metadata": {},
   "source": [
    "> Identify and calculate the percentage of the missing values in each attribute"
   ]
  },
  {
   "cell_type": "code",
   "execution_count": null,
   "id": "5e77436f",
   "metadata": {},
   "outputs": [],
   "source": [
    "cleaned_df.isnull().sum()/cleaned_df.count()*100"
   ]
  },
  {
   "cell_type": "markdown",
   "id": "202354f2",
   "metadata": {},
   "source": [
    "- In **LandingPad** column, there are **40%** missing values."
   ]
  },
  {
   "cell_type": "code",
   "execution_count": null,
   "id": "a6d24cd6",
   "metadata": {},
   "outputs": [],
   "source": [
    "cleaned_df.dtypes"
   ]
  },
  {
   "cell_type": "code",
   "execution_count": null,
   "id": "a3e66deb",
   "metadata": {},
   "outputs": [],
   "source": [
    "cleaned_df.columns"
   ]
  },
  {
   "cell_type": "markdown",
   "id": "a4abf62c",
   "metadata": {},
   "source": [
    "- **Categorical** columns are : Date, BoosterVersion, Orbit, LaunchSite, Outcome, GridFins, Reused, Legs, LandingPad, Serial\n",
    "\n",
    "- **Numerical** columns are : FlightNumber, PayloadMass, Flights, Block, ReusedCount, Longitude, Latitude\n",
    "\n",
    "There are 10 Categorical and 7 Numerical Columns."
   ]
  },
  {
   "cell_type": "code",
   "execution_count": null,
   "id": "50f2f46f",
   "metadata": {},
   "outputs": [],
   "source": [
    "# Converting Bool columns datatype into Integers datatype\n",
    "cleaned_df[['GridFins','Reused','Legs']] = cleaned_df[['GridFins','Reused','Legs']].astype(int)"
   ]
  },
  {
   "cell_type": "markdown",
   "id": "7e900ee5",
   "metadata": {},
   "source": [
    "**Dealing with LandingPad Null values**"
   ]
  },
  {
   "cell_type": "code",
   "execution_count": null,
   "id": "61a56947",
   "metadata": {},
   "outputs": [],
   "source": [
    "cleaned_df['LandingPad'].unique()"
   ]
  },
  {
   "cell_type": "code",
   "execution_count": null,
   "id": "11a9fef1",
   "metadata": {},
   "outputs": [],
   "source": [
    "# Calculate the mode of the 'LandingPad' column\n",
    "landing_pad_mode = cleaned_df['LandingPad'].mode().values[0]\n",
    "\n",
    "# Replace NaN values with the mode\n",
    "cleaned_df['LandingPad'].fillna(landing_pad_mode, inplace=True)"
   ]
  },
  {
   "cell_type": "code",
   "execution_count": null,
   "id": "3a5599e1",
   "metadata": {},
   "outputs": [],
   "source": [
    "cleaned_df['LandingPad'].value_counts()"
   ]
  },
  {
   "cell_type": "markdown",
   "id": "9065c88f",
   "metadata": {},
   "source": [
    "### TASK 1: Calculate the number of launches on each site\n",
    "\n",
    "The data contains several Space X  launch facilities: <a href='https://en.wikipedia.org/wiki/List_of_Cape_Canaveral_and_Merritt_Island_launch_sites'>Cape Canaveral Space</a> Launch Complex 40  <b>VAFB SLC 4E </b> , Vandenberg Air Force Base Space Launch Complex 4E <b>(SLC-4E)</b>, Kennedy Space Center Launch Complex 39A <b>KSC LC 39A </b>.The location of each Launch Is placed in the column <code>LaunchSite</code>"
   ]
  },
  {
   "cell_type": "markdown",
   "id": "4d3e8918",
   "metadata": {},
   "source": [
    "**Calculating the number of launches for each site.**"
   ]
  },
  {
   "cell_type": "code",
   "execution_count": null,
   "id": "6ee343c3",
   "metadata": {},
   "outputs": [],
   "source": [
    "# Apply value_counts() on column LaunchSite\n",
    "cleaned_df['LaunchSite'].value_counts()"
   ]
  },
  {
   "cell_type": "markdown",
   "id": "19f8ae3e",
   "metadata": {},
   "source": [
    "**Calculating the number and occurrence of each orbit**"
   ]
  },
  {
   "cell_type": "markdown",
   "id": "b54d4ee8",
   "metadata": {},
   "source": [
    "Each launch aims to an dedicated orbit, and here are some common orbit types:"
   ]
  },
  {
   "cell_type": "markdown",
   "id": "823cb491",
   "metadata": {},
   "source": [
    "\n",
    "\n",
    "* <b>LEO</b>: Low Earth orbit (LEO)is an Earth-centred orbit with an altitude of 2,000 km (1,200 mi) or less (approximately one-third of the radius of Earth),[1] or with at least 11.25 periods per day (an orbital period of 128 minutes or less) and an eccentricity less than 0.25.[2] Most of the manmade objects in outer space are in LEO <a href='https://en.wikipedia.org/wiki/Low_Earth_orbit'>[1]</a>.\n",
    "\n",
    "* <b>VLEO</b>: Very Low Earth Orbits (VLEO) can be defined as the orbits with a mean altitude below 450 km. Operating in these orbits can provide a number of benefits to Earth observation spacecraft as the spacecraft operates closer to the observation<a href='https://www.researchgate.net/publication/271499606_Very_Low_Earth_Orbit_mission_concepts_for_Earth_Observation_Benefits_and_challenges'>[2]</a>.\n",
    "\n",
    "\n",
    "* <b>GTO</b> A geosynchronous orbit is a high Earth orbit that allows satellites to match Earth's rotation. Located at 22,236 miles (35,786 kilometers) above Earth's equator, this position is a valuable spot for monitoring weather, communications and surveillance. Because the satellite orbits at the same speed that the Earth is turning, the satellite seems to stay in place over a single longitude, though it may drift north to south,” NASA wrote on its Earth Observatory website <a  href=\"https://www.space.com/29222-geosynchronous-orbit.html\" >[3] </a>.\n",
    "\n",
    "\n",
    "* <b>SSO (or SO)</b>: It is a Sun-synchronous orbit  also called a heliosynchronous orbit is a nearly polar orbit around a planet, in which the satellite passes over any given point of the planet's surface at the same local mean solar time <a href=\"https://en.wikipedia.org/wiki/Sun-synchronous_orbit\">[4] <a>.\n",
    "    \n",
    "    \n",
    "    \n",
    "* <b>ES-L1 </b>:At the Lagrange points the gravitational forces of the two large bodies cancel out in such a way that a small object placed in orbit there is in equilibrium relative to the center of mass of the large bodies. L1 is one such point between the sun and the earth <a href=\"https://en.wikipedia.org/wiki/Lagrange_point#L1_point\">[5]</a> .\n",
    "    \n",
    "    \n",
    "* <b>HEO</b> A highly elliptical orbit, is an elliptic orbit with high eccentricity, usually referring to one around Earth <a href=\"https://en.wikipedia.org/wiki/Highly_elliptical_orbit\">[6]</a>.\n",
    "\n",
    "\n",
    "* <b> ISS </b> A modular space station (habitable artificial satellite) in low Earth orbit. It is a multinational collaborative project between five participating space agencies: NASA (United States), Roscosmos (Russia), JAXA (Japan), ESA (Europe), and CSA (Canada)<a href=\"https://en.wikipedia.org/wiki/International_Space_Station\"> [7] </a>\n",
    "\n",
    "\n",
    "* <b> MEO </b> Geocentric orbits ranging in altitude from 2,000 km (1,200 mi) to just below geosynchronous orbit at 35,786 kilometers (22,236 mi). Also known as an intermediate circular orbit. These are \"most commonly at 20,200 kilometers (12,600 mi), or 20,650 kilometers (12,830 mi), with an orbital period of 12 hours <a href=\"https://en.wikipedia.org/wiki/List_of_orbits\"> [8] </a>\n",
    "\n",
    "\n",
    "* <b> HEO </b> Geocentric orbits above the altitude of geosynchronous orbit (35,786 km or 22,236 mi) <a href=\"https://en.wikipedia.org/wiki/List_of_orbits\"> [9] </a>\n",
    "\n",
    "\n",
    "* <b> GEO </b> It is a circular geosynchronous orbit 35,786 kilometres (22,236 miles) above Earth's equator and following the direction of Earth's rotation <a href=\"https://en.wikipedia.org/wiki/Geostationary_orbit\"> [10] </a>\n",
    "\n",
    "\n",
    "* <b> PO </b> It is one type of satellites in which a satellite passes above or nearly above both poles of the body being orbited (usually a planet such as the Earth <a href=\"https://en.wikipedia.org/wiki/Polar_orbit\"> [11] </a>\n",
    "\n",
    "some are shown in the following plot:"
   ]
  },
  {
   "cell_type": "code",
   "execution_count": null,
   "id": "9be4f175",
   "metadata": {},
   "outputs": [],
   "source": [
    "# Apply value_counts on Orbit column\n",
    "cleaned_df['Orbit'].value_counts()"
   ]
  },
  {
   "cell_type": "markdown",
   "id": "45467223",
   "metadata": {},
   "source": [
    "**Calculating the number and occurence of mission outcome per orbit type**"
   ]
  },
  {
   "cell_type": "code",
   "execution_count": null,
   "id": "582704e8",
   "metadata": {},
   "outputs": [],
   "source": [
    "landing_outcomes = cleaned_df['Outcome'].value_counts()\n",
    "landing_outcomes"
   ]
  },
  {
   "cell_type": "markdown",
   "id": "1b5a8da8",
   "metadata": {},
   "source": [
    "- <code>True Ocean</code> means the mission outcome was successfully  landed to a specific region of the ocean while <code>False Ocean</code> means the mission outcome was unsuccessfully landed to a specific region of the ocean.\n",
    "- <code>True RTLS</code> means the mission outcome was successfully landed to a ground pad <code>False RTLS</code> means the mission outcome was unsuccessfully landed to a ground pad.\n",
    "- <code>True ASDS</code> means the mission outcome was successfully landed to a drone ship <code>False ASDS</code> means the mission outcome was unsuccessfully landed to a drone ship.\n",
    "- <code>None ASDS</code> and <code>None None</code> these represent a failure to land."
   ]
  },
  {
   "cell_type": "code",
   "execution_count": null,
   "id": "f8991ba7",
   "metadata": {},
   "outputs": [],
   "source": [
    "for i,outcome in enumerate(landing_outcomes.keys()):\n",
    "    print(i,outcome)"
   ]
  },
  {
   "cell_type": "markdown",
   "id": "e7c51fb2",
   "metadata": {},
   "source": [
    "**Creating a set of outcomes where the second stage did not land successfully:**"
   ]
  },
  {
   "cell_type": "code",
   "execution_count": null,
   "id": "a11bbff8",
   "metadata": {},
   "outputs": [],
   "source": [
    "bad_outcomes=set(landing_outcomes.keys()[[1,3,5,6,7]])\n",
    "bad_outcomes"
   ]
  },
  {
   "cell_type": "markdown",
   "id": "d882cf76",
   "metadata": {},
   "source": [
    "**Creating a landing outcome label from Outcome column**"
   ]
  },
  {
   "cell_type": "markdown",
   "id": "5d1742da",
   "metadata": {},
   "source": [
    "Using the <code>Outcome</code> column,  create a list where the element for outcome in bad_outcome landing class=0 else landing class=1.\n",
    "Then assign it to the variable <code>landing_class</code>:"
   ]
  },
  {
   "cell_type": "code",
   "execution_count": null,
   "id": "637e999f",
   "metadata": {},
   "outputs": [],
   "source": [
    "# landing_class = 0 if bad_outcome\n",
    "# landing_class = 1 otherwise\n",
    "\n",
    "landing_class=[]\n",
    "for outcome in cleaned_df['Outcome']:\n",
    "    if outcome in bad_outcomes:\n",
    "        landing_class.append(0)\n",
    "    else:\n",
    "        landing_class.append(1)"
   ]
  },
  {
   "cell_type": "code",
   "execution_count": null,
   "id": "e42c0be8",
   "metadata": {},
   "outputs": [],
   "source": [
    "# Assign the landing_class list to a variable\n",
    "cleaned_df['Class'] = landing_class"
   ]
  },
  {
   "cell_type": "markdown",
   "id": "4ca368d6",
   "metadata": {},
   "source": [
    "This variable will represent the classification variable that represents the outcome of each launch. If the value is zero, the  first stage did not land successfully; one means  the first stage landed Successfully"
   ]
  },
  {
   "cell_type": "code",
   "execution_count": null,
   "id": "1f63ea4e",
   "metadata": {},
   "outputs": [],
   "source": [
    "cleaned_df[['Class']].head(5)"
   ]
  },
  {
   "cell_type": "code",
   "execution_count": null,
   "id": "3a7a127f",
   "metadata": {
    "scrolled": true
   },
   "outputs": [],
   "source": [
    "cleaned_df.head(3)"
   ]
  },
  {
   "cell_type": "code",
   "execution_count": null,
   "id": "d4d2b070",
   "metadata": {},
   "outputs": [],
   "source": [
    "# We can use the following line of code to determine  the success rate:\n",
    "cleaned_df[\"Class\"].mean()"
   ]
  },
  {
   "cell_type": "markdown",
   "id": "92dc9e52",
   "metadata": {},
   "source": [
    "We can now export it to a CSV for the next section,but to make the answers consistent, in the next lab we will provide data in a pre-selected date range."
   ]
  },
  {
   "cell_type": "markdown",
   "id": "5a009810",
   "metadata": {},
   "source": [
    "### Final step of Wrangling: Store data"
   ]
  },
  {
   "cell_type": "code",
   "execution_count": null,
   "id": "15da3ba8",
   "metadata": {},
   "outputs": [],
   "source": [
    "# Store the file\n",
    "cleaned_df.reset_index(drop=True)\n",
    "cleaned_df.to_csv(\"dataset_part_2.csv\", index=False)"
   ]
  },
  {
   "cell_type": "markdown",
   "id": "4c07c5ef",
   "metadata": {},
   "source": [
    "## SQL Notebook for Peer Assignment"
   ]
  },
  {
   "cell_type": "code",
   "execution_count": null,
   "id": "4be7fe3b",
   "metadata": {},
   "outputs": [],
   "source": [
    "%load_ext sql"
   ]
  },
  {
   "cell_type": "code",
   "execution_count": null,
   "id": "da6bc54d",
   "metadata": {},
   "outputs": [],
   "source": [
    "import csv, sqlite3\n",
    "\n",
    "con = sqlite3.connect(\"my_data1.db\")\n",
    "cur = con.cursor()"
   ]
  },
  {
   "cell_type": "code",
   "execution_count": null,
   "id": "449c4ad8",
   "metadata": {},
   "outputs": [],
   "source": [
    "!pip install -q pandas==1.1.5"
   ]
  },
  {
   "cell_type": "code",
   "execution_count": null,
   "id": "1c4ae62c",
   "metadata": {},
   "outputs": [],
   "source": [
    "%sql sqlite:///my_data1.db"
   ]
  },
  {
   "cell_type": "code",
   "execution_count": null,
   "id": "f6d6a6ca",
   "metadata": {},
   "outputs": [],
   "source": [
    "cleaned_df.to_sql(\"SPACEXTBL\", con, if_exists='replace', index=False,method=\"multi\")"
   ]
  },
  {
   "cell_type": "code",
   "execution_count": null,
   "id": "fe8b04b0",
   "metadata": {},
   "outputs": [],
   "source": [
    "%sql create table SPACEXTABLE as select * from SPACEXTBL where Date is not null"
   ]
  },
  {
   "cell_type": "markdown",
   "id": "f7a06be7",
   "metadata": {},
   "source": [
    "**The key points:**\n",
    "\n",
    "- Start the cell with `%%sql` to tell Jupyter this is a SQL cell\n",
    "- Then put your SQL query on the next lines\n",
    "- The output of the query will be displayed automatically below the cell when you run it"
   ]
  },
  {
   "cell_type": "code",
   "execution_count": null,
   "id": "35bc03e8",
   "metadata": {},
   "outputs": [],
   "source": [
    "%%sql\n",
    "SELECT COUNT(*) FROM SPACEXTABLE;"
   ]
  },
  {
   "cell_type": "markdown",
   "id": "548f38b7",
   "metadata": {},
   "source": [
    "**1.Display the names of the unique launch sites  in the space mission**"
   ]
  },
  {
   "cell_type": "code",
   "execution_count": null,
   "id": "d2cae62a",
   "metadata": {},
   "outputs": [],
   "source": [
    "%%sql\n",
    "SELECT DISTINCT \"Launch_Site\" \n",
    "FROM SPACEXTABLE;"
   ]
  },
  {
   "cell_type": "markdown",
   "id": "b09d67fa",
   "metadata": {},
   "source": [
    "**2.Display 5 records where launch sites begin with the string 'CCA'**"
   ]
  },
  {
   "cell_type": "code",
   "execution_count": null,
   "id": "3d421f3b",
   "metadata": {},
   "outputs": [],
   "source": [
    "%%sql \n",
    "SELECT *\n",
    "FROM SPACEXTABLE\n",
    "WHERE \"Launch_Site\" LIKE 'CCA%';"
   ]
  },
  {
   "cell_type": "markdown",
   "id": "2623ecd8",
   "metadata": {},
   "source": [
    "**3.Display the total payload mass carried by boosters launched by NASA (CRS)**"
   ]
  },
  {
   "cell_type": "code",
   "execution_count": null,
   "id": "9e74387f",
   "metadata": {},
   "outputs": [],
   "source": [
    "%%sql \n",
    "SELECT SUM(\"PAYLOAD_MASS__KG_\") AS \"Total Payload Mass\"\n",
    "FROM SPACEXTABLE\n",
    "WHERE \"Customer\" LIKE '%NASA (CRS)%';"
   ]
  },
  {
   "cell_type": "markdown",
   "id": "438ce0fd",
   "metadata": {},
   "source": [
    "**4.Display average payload mass carried by booster version F9 v1.1**"
   ]
  },
  {
   "cell_type": "code",
   "execution_count": null,
   "id": "1a3b47fd",
   "metadata": {},
   "outputs": [],
   "source": [
    "%%sql\n",
    "SELECT AVG(\"PAYLOAD_MASS__KG_\") AS \"Average Payload Mass\"\n",
    "FROM SPACEXTABLE  \n",
    "WHERE \"Booster_Version\" LIKE 'F9 v1.1';"
   ]
  },
  {
   "cell_type": "markdown",
   "id": "c6271918",
   "metadata": {},
   "source": [
    "**5.List the date when the first succesful landing outcome in ground pad was acheived.**"
   ]
  },
  {
   "cell_type": "code",
   "execution_count": null,
   "id": "6b120846",
   "metadata": {},
   "outputs": [],
   "source": [
    "%%sql\n",
    "SELECT DATE\n",
    "FROM SPACEXTABLE\n",
    "WHERE \"Landing_Outcome\" LIKE '%Success (ground pad)%'\n",
    "ORDER BY DATE;"
   ]
  },
  {
   "cell_type": "markdown",
   "id": "3067f5a6",
   "metadata": {},
   "source": [
    "**6.List the names of the boosters which have success in drone ship and have payload mass greater than 4000 but less than 6000**"
   ]
  },
  {
   "cell_type": "code",
   "execution_count": null,
   "id": "d64b9247",
   "metadata": {},
   "outputs": [],
   "source": [
    "%%sql\n",
    "SELECT DISTINCT \"Booster_Version\"\n",
    "FROM SPACEXTABLE\n",
    "WHERE \"Landing_Outcome\" LIKE '%Success (drone ship)%'\n",
    "AND \"PAYLOAD_MASS__KG_\" > 4000 AND \"PAYLOAD_MASS__KG_\" < 6000;"
   ]
  },
  {
   "cell_type": "markdown",
   "id": "0f0c772d",
   "metadata": {},
   "source": [
    "**7.List the total number of successful and failure mission outcomes**"
   ]
  },
  {
   "cell_type": "code",
   "execution_count": null,
   "id": "3c4dd85f",
   "metadata": {},
   "outputs": [],
   "source": [
    "%%sql\n",
    "SELECT \n",
    " SUM(CASE WHEN \"Landing_Outcome\" LIKE '%Success%' THEN 1 ELSE 0 END) AS Successes,\n",
    " SUM(CASE WHEN \"Landing_Outcome\" LIKE '%Failure%' THEN 1 ELSE 0 END) AS Failures\n",
    "FROM SPACEXTABLE;"
   ]
  },
  {
   "cell_type": "markdown",
   "id": "ed6d5c65",
   "metadata": {},
   "source": [
    "**8.List the names of the booster_versions which have carried the maximum payload mass. Use a subquery**"
   ]
  },
  {
   "cell_type": "code",
   "execution_count": null,
   "id": "01d201ce",
   "metadata": {},
   "outputs": [],
   "source": [
    "%%sql\n",
    "SELECT DISTINCT \"Booster_Version\"\n",
    "FROM SPACEXTABLE\n",
    "WHERE \"PAYLOAD_MASS__KG_\" = (SELECT MAX(\"PAYLOAD_MASS__KG_\") FROM SPACEXTABLE);"
   ]
  },
  {
   "cell_type": "markdown",
   "id": "4fb97df7",
   "metadata": {},
   "source": [
    "**9.List the records which will display the month names, failure landing_outcomes in drone ship ,booster versions, launch_site for the months in year 2015.**\n"
   ]
  },
  {
   "cell_type": "markdown",
   "id": "24ed942d",
   "metadata": {},
   "source": [
    "`Note:` SQLLite does not support monthnames. So you need to use  substr(Date, 6,2) as month to get the months and substr(Date,0,5)='2015' for year."
   ]
  },
  {
   "cell_type": "code",
   "execution_count": null,
   "id": "4a380edb",
   "metadata": {},
   "outputs": [],
   "source": [
    "%%sql \n",
    "SELECT DISTINCT MONTHNAME(DATE) AS Month,  \n",
    "       (CASE WHEN \"Landing_Outcome\" LIKE '%Failure (drone ship)%' THEN 1 ELSE 0 END) AS \"Drone Ship Failure\",\n",
    "       \"Booster_Version\",\n",
    "       \"Launch_Site\"\n",
    "FROM SPACEXTABLE \n",
    "WHERE YEAR(DATE) = 2015;"
   ]
  },
  {
   "cell_type": "markdown",
   "id": "b3b4b6da",
   "metadata": {},
   "source": [
    "**10.Rank the count of landing outcomes (such as Failure (drone ship) or Success (ground pad)) between the date 2010-06-04 and 2017-03-20, in descending order.**"
   ]
  },
  {
   "cell_type": "code",
   "execution_count": null,
   "id": "e6de6b08",
   "metadata": {},
   "outputs": [],
   "source": [
    "%%sql\n",
    "SELECT * FROM\n",
    "  (SELECT \"Landing_Outcome\", COUNT(*) AS landing_outcome_count\n",
    "   FROM SPACEXTABLE\n",
    "   WHERE DATE BETWEEN '2010-06-04' AND '2017-03-20'\n",
    "   GROUP BY \"Landing_Outcome\")\n",
    "ORDER BY landing_outcome_count DESC;"
   ]
  },
  {
   "cell_type": "markdown",
   "id": "8875fbd7",
   "metadata": {},
   "source": [
    "## Day 3 : Exploratory Analysis using Pandas and Matplotlib"
   ]
  },
  {
   "cell_type": "code",
   "execution_count": null,
   "id": "22a37bbb",
   "metadata": {},
   "outputs": [],
   "source": [
    "eda_df=cleaned_df.copy(deep=True)"
   ]
  },
  {
   "cell_type": "markdown",
   "id": "0167a6f7",
   "metadata": {},
   "source": [
    "**Visualizing relationship between payload and Flight Number**"
   ]
  },
  {
   "cell_type": "code",
   "execution_count": null,
   "id": "c86cf878",
   "metadata": {},
   "outputs": [],
   "source": [
    "sns.catplot(y=\"PayloadMass\", x=\"FlightNumber\", hue=\"Class\", data=eda_df, aspect=5, s=90)\n",
    "plt.xlabel(\"Flight Number\",fontsize=20)\n",
    "plt.ylabel(\"Pay load Mass (kg)\",fontsize=20)\n",
    "plt.show()"
   ]
  },
  {
   "cell_type": "markdown",
   "id": "b3ccb042",
   "metadata": {},
   "source": [
    "We see that different launch sites have different success rates.  <code>CCAFS LC-40</code>, has a success rate of 60 %, while  <code>KSC LC-39A</code> and <code>VAFB SLC 4E</code> has a success rate of 77%."
   ]
  },
  {
   "cell_type": "markdown",
   "id": "3f5c7a57",
   "metadata": {},
   "source": [
    "Next, let's drill down to each site visualize its detailed launch records."
   ]
  },
  {
   "cell_type": "markdown",
   "id": "5b826c8e",
   "metadata": {},
   "source": [
    "**Visualizing the relationship between Flight Number and Launch Site**"
   ]
  },
  {
   "cell_type": "code",
   "execution_count": null,
   "id": "9860a7d7",
   "metadata": {},
   "outputs": [],
   "source": [
    "# Groupping the data by Launch Site and count the number of flights for each site\n",
    "launch_site_counts = eda_df['LaunchSite'].value_counts().reset_index()\n",
    "launch_site_counts.columns = ['LaunchSite', 'FlightNumber']\n",
    "\n",
    "# Create a bar plot\n",
    "plt.figure(figsize=(10, 6))\n",
    "sns.barplot(x='LaunchSite', y='FlightNumber', data=launch_site_counts, palette=\"viridis\")\n",
    "plt.title('Flight Count by Launch Site', fontsize=16)\n",
    "plt.xlabel('Launch Site', fontsize=14)\n",
    "plt.ylabel('Flight Count', fontsize=14)\n",
    "plt.xticks(rotation=45)  # Rotate x-axis labels for better readability\n",
    "\n",
    "plt.show()"
   ]
  },
  {
   "cell_type": "markdown",
   "id": "bd3369ab",
   "metadata": {},
   "source": [
    "Use the function <code>catplot</code> to plot <code>FlightNumber</code> vs <code>LaunchSite</code>, set the  parameter <code>x</code>  parameter to <code>FlightNumber</code>,set the  <code>y</code> to <code>Launch Site</code> and set the parameter <code>hue</code> to <code>'class'</code>"
   ]
  },
  {
   "cell_type": "code",
   "execution_count": null,
   "id": "657256cb",
   "metadata": {},
   "outputs": [],
   "source": [
    "# Plotting a scatter point chart with x axis to be Flight Number and y axis to be the launch site, and hue to be the class value\n",
    "\n",
    "# Use the catplot function to create the scatter plot\n",
    "sns.catplot(x=\"FlightNumber\", y=\"LaunchSite\", hue=\"Class\", data=eda_df, aspect=2, kind=\"strip\",s=50)\n",
    "\n",
    "# Set the title and adjust the axis labels\n",
    "plt.title('Flight Number vs Launch Site')\n",
    "plt.xlabel('Flight Number')\n",
    "plt.ylabel('Launch Site')\n",
    "\n",
    "# Show the plot\n",
    "plt.show()\n"
   ]
  },
  {
   "cell_type": "markdown",
   "id": "fc0da61b",
   "metadata": {},
   "source": [
    "- The sucsess of landing increased as flight number increased."
   ]
  },
  {
   "cell_type": "markdown",
   "id": "499733ea",
   "metadata": {},
   "source": [
    "Now try to explain the patterns you found in the Flight Number vs. Launch Site scatter point plots."
   ]
  },
  {
   "cell_type": "code",
   "execution_count": null,
   "id": "13c6d4ac",
   "metadata": {},
   "outputs": [],
   "source": [
    "### TASK 2: Visualize the relationship between Payload and Launch Site\n",
    "\n",
    "plt.figure(figsize=(10, 6))\n",
    "sns.barplot(data=eda_df, x='LaunchSite', y='PayloadMass', estimator=np.mean, ci=None, palette=\"viridis\")\n",
    "plt.title('Average Payload Mass by Launch Site', fontsize=16)\n",
    "plt.xlabel('Launch Site', fontsize=14)\n",
    "plt.ylabel('Average Payload Mass (kg)', fontsize=14)\n",
    "\n",
    "plt.show()"
   ]
  },
  {
   "cell_type": "markdown",
   "id": "a395080f",
   "metadata": {},
   "source": [
    "We also want to observe if there is any relationship between launch sites and their payload mass.\n"
   ]
  },
  {
   "cell_type": "code",
   "execution_count": null,
   "id": "e1fe340a",
   "metadata": {},
   "outputs": [],
   "source": [
    "# Plot a scatter point chart with x axis to be Pay Load Mass (kg) and y axis to be the launch site, and hue to be the class value\n",
    "\n",
    "# Create a scatter plot\n",
    "plt.figure(figsize=(10, 6))\n",
    "sns.scatterplot(x='PayloadMass', y='LaunchSite', hue='Class', data=eda_df, palette='viridis', s=60)\n",
    "plt.title('Payload Mass vs. Launch Site', fontsize=16)\n",
    "plt.xlabel('Payload Mass (kg)', fontsize=14)\n",
    "plt.ylabel('Launch Site', fontsize=14)\n",
    "plt.legend(title='Class', title_fontsize='12', loc='upper right')\n",
    "\n",
    "plt.show()"
   ]
  },
  {
   "cell_type": "markdown",
   "id": "3403c6f7",
   "metadata": {},
   "source": [
    "- Now if you observe Payload Vs. Launch Site scatter point chart you will find for the VAFB-SLC  launchsite there are no  rockets  launched for  heavypayload mass(greater than 10000).\n",
    "- Most of the launches were carried out at CCSFS SLC-40, followed by KSC LC-39A and least launches were carried out at VAFB SLC 4E"
   ]
  },
  {
   "cell_type": "code",
   "execution_count": null,
   "id": "929be71d",
   "metadata": {},
   "outputs": [],
   "source": [
    "### TASK  3: Visualize the relationship between success rate of each orbit type\n",
    "df_success=eda_df.groupby('Orbit')['Class'].mean()*100\n",
    "df_success.plot(kind='bar', figsize=(10,6))\n",
    "plt.xlabel('Orbit')\n",
    "plt.ylabel('Success Rate')\n",
    "plt.title('Relationship between Success Rate and Orbit')"
   ]
  },
  {
   "cell_type": "markdown",
   "id": "6d10d841",
   "metadata": {},
   "source": [
    "Next, we want to visually check if there are any relationship between success rate and orbit type."
   ]
  },
  {
   "cell_type": "markdown",
   "id": "4e99441d",
   "metadata": {},
   "source": [
    "Let's create a `bar chart` for the sucess rate of each orbit"
   ]
  },
  {
   "cell_type": "code",
   "execution_count": null,
   "id": "b941a156",
   "metadata": {},
   "outputs": [],
   "source": [
    "# HINT use groupby method on Orbit column and get the mean of Class column\n",
    "\n",
    "# Group the data by 'Orbit' and calculate the mean of 'Class'\n",
    "orbit_success_rate = eda_df.groupby('Orbit')['Class'].mean().reset_index()\n",
    "\n",
    "# Create a bar chart\n",
    "plt.figure(figsize=(10, 6))\n",
    "bars = plt.bar(orbit_success_rate['Orbit'], orbit_success_rate['Class'], color='royalblue')\n",
    "plt.title('Success Rate by Orbit', fontsize=16)\n",
    "plt.xlabel('Orbit', fontsize=14)\n",
    "plt.ylabel('Success Rate', fontsize=14)\n",
    "plt.xticks(rotation=90)  # Rotate x-axis labels for better readability\n",
    "\n",
    "# Annotate the bars with counts\n",
    "for i, bar in enumerate(bars):\n",
    "    height = bar.get_height()\n",
    "    count = orbit_success_rate.loc[i]['Class']\n",
    "    plt.annotate(f'{count:.2f}', xy=(bar.get_x() + bar.get_width() / 2, height), xytext=(0, 3),\n",
    "                 textcoords='offset points', ha='center', va='bottom')\n",
    "plt.show()"
   ]
  },
  {
   "cell_type": "markdown",
   "id": "f4ac6374",
   "metadata": {},
   "source": [
    "- Orbits ES_L1, GEO, HEO and SSO have highest 100% success rate."
   ]
  },
  {
   "cell_type": "markdown",
   "id": "397878d3",
   "metadata": {},
   "source": [
    "For each orbit, we want to see if there is any relationship between FlightNumber and Orbit type."
   ]
  },
  {
   "cell_type": "code",
   "execution_count": null,
   "id": "a7521ce4",
   "metadata": {},
   "outputs": [],
   "source": [
    "# Task 4: Plotting a scatter point chart with x axis to be FlightNumber and y axis to be the Orbit, and hue to be the class value\n",
    "\n",
    "sns.catplot(y='Orbit', x='FlightNumber', hue='Class', data=eda_df, aspect=5, s=80)\n",
    "plt.xlabel(\"Flight Number\",fontsize=20)\n",
    "plt.ylabel(\"Orbit\",fontsize=20)\n",
    "plt.show()"
   ]
  },
  {
   "cell_type": "markdown",
   "id": "060e68e4",
   "metadata": {},
   "source": [
    "- In the LEO orbit the Success appears related to the number of flights.\n",
    "- On the other hand, there seems to be **No** relationship between FlightNumber when in GTO orbit."
   ]
  },
  {
   "cell_type": "markdown",
   "id": "6f29612f",
   "metadata": {},
   "source": [
    "**Visualize the relationship between Payload and Orbit type**"
   ]
  },
  {
   "cell_type": "markdown",
   "id": "3625acaf",
   "metadata": {},
   "source": [
    "Similarly, we can plot the Payload vs. Orbit scatter point charts to reveal the relationship between Payload and Orbit type\n"
   ]
  },
  {
   "cell_type": "code",
   "execution_count": null,
   "id": "be7c67a1",
   "metadata": {},
   "outputs": [],
   "source": [
    "# Plot a scatter point chart with x axis to be Payload and y axis to be the Orbit, and hue to be the class value\n",
    "sns.catplot(y='Orbit', x='PayloadMass', hue='Class', data=eda_df, aspect=5,s=70)\n",
    "plt.xlabel(\"Pauload Mass(Kg)\",fontsize=20)\n",
    "plt.ylabel(\"Orbit\",fontsize=20)\n",
    "plt.show()"
   ]
  },
  {
   "cell_type": "code",
   "execution_count": null,
   "id": "612899bf",
   "metadata": {},
   "outputs": [],
   "source": [
    "# Create a Scatterplot with PayloadMass on the x-axis, Orbit on the y-axis, and Class as hue\n",
    "\n",
    "eda_df.plot(x='Orbit', y='PayloadMass', kind='scatter')\n",
    "sns.set_style(\"darkgrid\")\n",
    "title_font = {'size': 16, 'color': 'darkblue'}\n",
    "plt.xlabel(\"Orbit\", fontdict=title_font)\n",
    "plt.ylabel(\"PayloadMass\", fontdict=title_font)\n",
    "\n",
    "plt.show()"
   ]
  },
  {
   "cell_type": "markdown",
   "id": "3f3e62b3",
   "metadata": {},
   "source": [
    "- With heavy payloads the successful landing (positive landing) rate are more for Polar,LEO and ISS.\n",
    "- However for GTO we cannot distinguish this well as both positive landing rate and negative landing(unsuccessful mission) are both there here.\n",
    "- We observe that Heavy payloads have a negative influence on GTO orbits and positive on Polar LEO and ISS orbits"
   ]
  },
  {
   "cell_type": "markdown",
   "id": "c314924e",
   "metadata": {},
   "source": [
    "#### TASK  6: Visualizing the launch success yearly trend"
   ]
  },
  {
   "cell_type": "markdown",
   "id": "1fb8379c",
   "metadata": {},
   "source": [
    "We can plot a line chart with x axis to be <code>Year</code> and y axis to be average success rate, to get the average launch success trend."
   ]
  },
  {
   "cell_type": "code",
   "execution_count": null,
   "id": "a0a46c9b",
   "metadata": {},
   "outputs": [],
   "source": [
    "eda_df['Date']=eda_df['Date'].astype(str)"
   ]
  },
  {
   "cell_type": "code",
   "execution_count": null,
   "id": "fbb9fe65",
   "metadata": {},
   "outputs": [],
   "source": [
    "# A function to Extract years from the date \n",
    "year=[]\n",
    "def Extract_year(eda_df):\n",
    "    for i in eda_df[\"Date\"]:\n",
    "        year.append(i.split(\"-\")[0])\n",
    "    return year\n"
   ]
  },
  {
   "cell_type": "code",
   "execution_count": null,
   "id": "d55148fa",
   "metadata": {},
   "outputs": [],
   "source": [
    "# Plotting a line chart with x axis to be the extracted year and y axis to be the success rate\n",
    "\n",
    "Extract_year(eda_df)\n",
    "eda_df['Year']=year\n",
    "\n",
    "fig,ax=plt.subplots()\n",
    "df_success1=eda_df.groupby('Year')['Class'].mean()*100\n",
    "df_success1.plot(kind='line', figsize=(10,6))\n",
    "plt.xlabel('Year')\n",
    "plt.ylabel('Success Rate')\n",
    "plt.title('Relationship between Success Rate and Year')\n",
    "\n",
    "plt.show()"
   ]
  },
  {
   "cell_type": "markdown",
   "id": "e6270eee",
   "metadata": {},
   "source": [
    "- We can observe that the sucess rate since 2013 kept increasing till 2020."
   ]
  },
  {
   "cell_type": "code",
   "execution_count": null,
   "id": "a072f974",
   "metadata": {},
   "outputs": [],
   "source": [
    "df_success1.head()"
   ]
  },
  {
   "cell_type": "code",
   "execution_count": null,
   "id": "69309951",
   "metadata": {},
   "outputs": [],
   "source": [
    "fe_df=eda_df.copy(deep=True)"
   ]
  },
  {
   "cell_type": "markdown",
   "id": "dbbb134e",
   "metadata": {},
   "source": [
    "## Features Engineering"
   ]
  },
  {
   "cell_type": "markdown",
   "id": "d7fb5310",
   "metadata": {},
   "source": [
    "Based on obtaining some preliminary insights about how each important variable would affect the success rate, we will select the features that will be used in success prediction in the future module."
   ]
  },
  {
   "cell_type": "code",
   "execution_count": null,
   "id": "d90bc841",
   "metadata": {},
   "outputs": [],
   "source": [
    "features = fe_df[['FlightNumber', 'PayloadMass', 'Orbit', 'LaunchSite', 'Flights',\n",
    "               'GridFins', 'Reused', 'Legs', 'LandingPad', 'Block',\n",
    "               'ReusedCount', 'Serial']]\n",
    "features.head()"
   ]
  },
  {
   "cell_type": "markdown",
   "id": "7430d5c8",
   "metadata": {},
   "source": [
    "**Creating dummy variables to categorical columns**"
   ]
  },
  {
   "cell_type": "markdown",
   "id": "9e7d5c0e",
   "metadata": {},
   "source": [
    "Use the function <code>get_dummies</code> and <code>features</code> dataframe to apply OneHotEncoder to the column <code>Orbits</code>, <code>LaunchSite</code>, <code>LandingPad</code>, and <code>Serial</code>. Assign the value to the variable <code>features_one_hot</code>, display the results using the method head. Your result dataframe must include all features including the encoded ones.\n"
   ]
  },
  {
   "cell_type": "code",
   "execution_count": null,
   "id": "5d438d46",
   "metadata": {},
   "outputs": [],
   "source": [
    "# Use get_dummies() function on the categorical columns\n",
    "from sklearn import preprocessing\n",
    "\n",
    "train_encoded = pd.get_dummies(features,\n",
    "                    prefix=['Orbits','LaunchSite','LandingPad','Serial'])\n",
    "train_encoded.head(3)"
   ]
  },
  {
   "cell_type": "code",
   "execution_count": null,
   "id": "4d165fab",
   "metadata": {},
   "outputs": [],
   "source": [
    "train_encoded.shape"
   ]
  },
  {
   "cell_type": "markdown",
   "id": "822f4004",
   "metadata": {},
   "source": [
    "**Casting all numeric columns to `float64`**"
   ]
  },
  {
   "cell_type": "markdown",
   "id": "d2ee4bd5",
   "metadata": {},
   "source": [
    "Now that our <code>features_one_hot</code> dataframe only contains numbers cast the entire dataframe to variable type <code>float64</code>"
   ]
  },
  {
   "cell_type": "code",
   "execution_count": null,
   "id": "6a6c9436",
   "metadata": {},
   "outputs": [],
   "source": [
    "# Using astype function\n",
    "train_encoded.astype('float64')"
   ]
  },
  {
   "cell_type": "markdown",
   "id": "5263e647",
   "metadata": {},
   "source": [
    "### Launch Sites Locations Analysis with Folium"
   ]
  },
  {
   "cell_type": "markdown",
   "id": "be2e9f70",
   "metadata": {},
   "source": [
    "## Objectives\n",
    "We'll proceeed with the following tasks :\n",
    "- **Task1 :** Mark all launch sites on a map\n",
    "- **Task2 :** Mark the success/failed launches for each site on the map\n",
    "- **Task3 :** Calculate the distances between a launch site to its proximities"
   ]
  },
  {
   "cell_type": "code",
   "execution_count": null,
   "id": "7e6a15dc",
   "metadata": {},
   "outputs": [],
   "source": [
    "!pip3 install wget"
   ]
  },
  {
   "cell_type": "code",
   "execution_count": null,
   "id": "da2d3616",
   "metadata": {},
   "outputs": [],
   "source": [
    "pip install folium"
   ]
  },
  {
   "cell_type": "code",
   "execution_count": null,
   "id": "f1fb1bc6",
   "metadata": {},
   "outputs": [],
   "source": [
    "import folium\n",
    "import wget"
   ]
  },
  {
   "cell_type": "code",
   "execution_count": null,
   "id": "b837cad0",
   "metadata": {},
   "outputs": [],
   "source": [
    "# Import folium MarkerCluster plugin\n",
    "from folium.plugins import MarkerCluster\n",
    "\n",
    "# Import folium MousePosition plugin\n",
    "from folium.plugins import MousePosition\n",
    "\n",
    "# Import folium DivIcon plugin\n",
    "from folium.features import DivIcon"
   ]
  },
  {
   "cell_type": "markdown",
   "id": "9d042f15",
   "metadata": {},
   "source": [
    "**Marking all launch sites on a map**"
   ]
  },
  {
   "cell_type": "markdown",
   "id": "859a9e86",
   "metadata": {},
   "source": [
    "First, let's try to add each site's location on a map using site's latitude and longitude coordinates\n",
    "\n",
    "The following dataset with the name `spacex_launch_geo.csv` is an augmented dataset with latitude and longitude added for each site."
   ]
  },
  {
   "cell_type": "code",
   "execution_count": null,
   "id": "ac901561",
   "metadata": {},
   "outputs": [],
   "source": [
    "spacex_csv_file = wget.download('https://cf-courses-data.s3.us.cloud-object-storage.appdomain.cloud/IBM-DS0321EN-SkillsNetwork/datasets/spacex_launch_geo.csv')\n",
    "spacex_df=pd.read_csv(spacex_csv_file)"
   ]
  },
  {
   "cell_type": "markdown",
   "id": "92bdc2f9",
   "metadata": {},
   "source": [
    "**Take a look at what are the coordinates for each site.**"
   ]
  },
  {
   "cell_type": "code",
   "execution_count": null,
   "id": "7b551db3",
   "metadata": {},
   "outputs": [],
   "source": [
    "# Select relevant sub-columns: `Launch Site`, `Lat(Latitude)`, `Long(Longitude)`, `class`\n",
    "spacex_df = spacex_df[['Launch Site', 'Lat', 'Long', 'class']]\n",
    "launch_sites_df = spacex_df.groupby(['Launch Site'], as_index=False).first()\n",
    "launch_sites_df = launch_sites_df[['Launch Site', 'Lat', 'Long']]\n",
    "launch_sites_df"
   ]
  },
  {
   "cell_type": "markdown",
   "id": "f64e3d6e",
   "metadata": {},
   "source": [
    "- Above coordinates are just plain numbers that can not give any intuitive insights about where are those launch sites. Let's visualize those locations by pinning them on a map."
   ]
  },
  {
   "cell_type": "code",
   "execution_count": null,
   "id": "c5ce7389",
   "metadata": {},
   "outputs": [],
   "source": [
    "spacex_df[['Launch Site']].value_counts"
   ]
  },
  {
   "cell_type": "markdown",
   "id": "790058d2",
   "metadata": {},
   "source": [
    "**Creating a folium `Map` object, with an initial center location to be NASA Johnson Space Center at Houston, Texas.**"
   ]
  },
  {
   "cell_type": "code",
   "execution_count": null,
   "id": "09d1ca87",
   "metadata": {},
   "outputs": [],
   "source": [
    "nasa_coordinate = [29.559684888503615, -95.0830971930759]\n",
    "site_map = folium.Map(location=nasa_coordinate, zoom_start=10)"
   ]
  },
  {
   "cell_type": "markdown",
   "id": "12e8eb39",
   "metadata": {},
   "source": [
    "**Using `folium.Circle` to add a highlighted circle area with a text label on NASA Johnson Space Centre.**"
   ]
  },
  {
   "cell_type": "code",
   "execution_count": null,
   "id": "e0e923af",
   "metadata": {},
   "outputs": [],
   "source": [
    "# Create a blue circle at NASA Johnson Space Center's coordinate with a popup label showing its name\n",
    "circle = folium.Circle(nasa_coordinate, radius=1000, color='#d35400',\n",
    "                       fill=True).add_child(folium.Popup('NASA Johnson Space Center'))\n",
    "\n",
    "# Create a blue circle at NASA Johnson Space Center's coordinate with a icon showing its name\n",
    "marker = folium.map.Marker(\n",
    "    nasa_coordinate,\n",
    "    # Create an icon as a text label\n",
    "    icon=DivIcon(\n",
    "        icon_size=(20,20),\n",
    "        icon_anchor=(0,0),\n",
    "        html='<div style=\"font-size: 12; color:#d35400;\"><b>%s</b></div>' % 'NASA JSC',\n",
    "        )\n",
    "    )\n",
    "site_map.add_child(circle)\n",
    "site_map.add_child(marker)"
   ]
  },
  {
   "cell_type": "markdown",
   "id": "d836dda4",
   "metadata": {},
   "source": [
    "**Adding a circle for each launch site in data frame launch_sites**"
   ]
  },
  {
   "cell_type": "code",
   "execution_count": null,
   "id": "a3de6b3e",
   "metadata": {},
   "outputs": [],
   "source": [
    "# Initial the map\n",
    "site_map = folium.Map(location=nasa_coordinate, zoom_start=4.4)\n",
    "\n",
    "# For each launch site, add a Circle object based on its coordinate (Lat, Long) values. In addition, add Launch site name as a popup label\n",
    "list1=[[28.562302,-80.577356],[28.563197,-80.576820],[28.573255,-80.646895],[34.632834,-120.610745]]\n",
    "list2=['CCAFS LC-40','CCAFS SLC-40','KSC LC-39A','VAFB SLC-4E']"
   ]
  },
  {
   "cell_type": "markdown",
   "id": "d7e9f5a2",
   "metadata": {},
   "source": [
    "**Circle1**"
   ]
  },
  {
   "cell_type": "code",
   "execution_count": null,
   "id": "39e63d97",
   "metadata": {},
   "outputs": [],
   "source": [
    "circle1 = folium.Circle(list1[0], radius=100, color='#d35400', fill=True).add_child(folium.Popup(list2[0]))\n",
    "# Create a blue circle at NASA Johnson Space Center's coordinate with a icon showing its name\n",
    "marker1 = folium.map.Marker(\n",
    "    list1[0],\n",
    "    # Create an icon as a text label\n",
    "    icon=DivIcon(\n",
    "        icon_size=(20,20),\n",
    "        icon_anchor=(0,0),\n",
    "        html='<div style=\"font-size: 12; color:#d35400;\"><b>%s</b></div>' % list2[0],\n",
    "              )\n",
    "    )\n",
    "site_map.add_child(circle1)\n",
    "site_map.add_child(marker1)"
   ]
  },
  {
   "cell_type": "markdown",
   "id": "df92b948",
   "metadata": {},
   "source": [
    "**Circle2**"
   ]
  },
  {
   "cell_type": "code",
   "execution_count": null,
   "id": "db9fbdaa",
   "metadata": {},
   "outputs": [],
   "source": [
    "circle2 = folium.Circle(list1[1], radius=100, color='#d35400', fill=True).add_child(folium.Popup(list2[1]))\n",
    "# Create a blue circle at NASA Johnson Space Center's coordinate with a icon showing its name\n",
    "marker2 = folium.map.Marker(\n",
    "    list1[1],\n",
    "    # Create an icon as a text label\n",
    "    icon=DivIcon(\n",
    "        icon_size=(20,20),\n",
    "        icon_anchor=(0,0),\n",
    "        html='<div style=\"font-size: 12; color:#d35400;\"><b>%s</b></div>' % list2[1],\n",
    "        )\n",
    "     )\n",
    "site_map.add_child(circle2)\n",
    "site_map.add_child(marker2)"
   ]
  },
  {
   "cell_type": "markdown",
   "id": "057b2389",
   "metadata": {},
   "source": [
    "**Circle3**"
   ]
  },
  {
   "cell_type": "code",
   "execution_count": null,
   "id": "b9cbf6d3",
   "metadata": {},
   "outputs": [],
   "source": [
    "circle3 = folium.Circle(list1[2], radius=100, color='#d35400', fill=True).add_child(folium.Popup(list2[2]))\n",
    "# Create a blue circle at NASA Johnson Space Center's coordinate with a icon showing its name\n",
    "marker3 = folium.map.Marker(\n",
    "    list1[2],\n",
    "    # Create an icon as a text label\n",
    "    icon=DivIcon(\n",
    "        icon_size=(20,20),\n",
    "        icon_anchor=(0,0),\n",
    "        html='<div style=\"font-size: 12; color:#d35400;\"><b>%s</b></div>' % list2[2],\n",
    "        )\n",
    "    )\n",
    "site_map.add_child(circle3)\n",
    "site_map.add_child(marker3)"
   ]
  },
  {
   "cell_type": "markdown",
   "id": "08389bcb",
   "metadata": {},
   "source": [
    "**Circle4**"
   ]
  },
  {
   "cell_type": "code",
   "execution_count": null,
   "id": "142551b5",
   "metadata": {},
   "outputs": [],
   "source": [
    "circle4 = folium.Circle(list1[3], radius=100, color='#d35400', fill=True).add_child(folium.Popup(list2[3]))\n",
    "# Create a blue circle at NASA Johnson Space Center's coordinate with a icon showing its name\n",
    "marker4 = folium.map.Marker(\n",
    "    list1[3],\n",
    "    # Create an icon as a text label\n",
    "    icon=DivIcon(\n",
    "        icon_size=(20,20),\n",
    "        icon_anchor=(0,0),\n",
    "        html='<div style=\"font-size: 12; color:#d35400;\"><b>%s</b></div>' % list2[3],\n",
    "        )\n",
    "    )\n",
    "site_map.add_child(circle4)\n",
    "site_map.add_child(marker4)"
   ]
  },
  {
   "cell_type": "markdown",
   "id": "5a5cc5da",
   "metadata": {},
   "source": [
    "Now, As we explored the map by zoom-in/out the marked areas, here are the following findings:"
   ]
  },
  {
   "cell_type": "markdown",
   "id": "23e2e22f",
   "metadata": {},
   "source": [
    "**1)** No, Not all the launch sites are in proximity to the Equator line."
   ]
  },
  {
   "cell_type": "markdown",
   "id": "39bbf355",
   "metadata": {},
   "source": [
    "**2)** All launch sites are in very close proximity to the coast."
   ]
  },
  {
   "cell_type": "markdown",
   "id": "ba931ac7",
   "metadata": {},
   "source": [
    "**Marking the success/failed launches for each site on the map**"
   ]
  },
  {
   "cell_type": "markdown",
   "id": "884a6daf",
   "metadata": {},
   "source": [
    "- let's try to enhance the map by adding the launch outcomes for each site, and see which sites have high success rates.\n",
    "- Recall that data frame spacex_df has detailed launch records, and the `class` column indicates if this launch was successful or not."
   ]
  },
  {
   "cell_type": "code",
   "execution_count": null,
   "id": "13ca93d3",
   "metadata": {},
   "outputs": [],
   "source": [
    "spacex_df.tail(3)"
   ]
  },
  {
   "cell_type": "markdown",
   "id": "ffc9c716",
   "metadata": {},
   "source": [
    "**Next,** let's create markers for all launch records.\n",
    "If a launch was **successful `(class=1)`**, then we use a **green marker** and if a launch was **failed**, we use a **red marker `(class=0)`**"
   ]
  },
  {
   "cell_type": "code",
   "execution_count": null,
   "id": "c2f97fcc",
   "metadata": {},
   "outputs": [],
   "source": [
    "marker_cluster = MarkerCluster()"
   ]
  },
  {
   "cell_type": "markdown",
   "id": "02d85a1f",
   "metadata": {},
   "source": [
    "**Creating a new column in `launch_sites` dataframe called `marker_color` to store the marker colors based on the `Class` value**"
   ]
  },
  {
   "cell_type": "code",
   "execution_count": null,
   "id": "95501833",
   "metadata": {},
   "outputs": [],
   "source": [
    "# Function to assign color to launch outcome\n",
    "def assign_marker_color(launch_outcome):\n",
    "    if launch_outcome == 1:\n",
    "        return 'green'\n",
    "    else:\n",
    "        return 'red'\n",
    "    \n",
    "spacex_df['marker_color'] = spacex_df['class'].apply(assign_marker_color)\n",
    "spacex_df.tail(10)\n",
    "launch_sites_df = spacex_df[['Launch Site', 'Lat', 'Long','marker_color']]\n",
    "launch_sites_df"
   ]
  },
  {
   "cell_type": "markdown",
   "id": "be61e175",
   "metadata": {},
   "source": [
    "**For each launch result in `spacex_df` data frame, adding a `folium.Marker` to `marker_cluster`**"
   ]
  },
  {
   "cell_type": "code",
   "execution_count": null,
   "id": "c182791c",
   "metadata": {
    "scrolled": true
   },
   "outputs": [],
   "source": [
    "# Add marker_cluster to current site_map\n",
    "marker_cluster=folium.plugins.MarkerCluster()\n",
    "site_map.add_child(marker_cluster)\n",
    "# for each row in spacex_df data frame\n",
    "# create a Marker object with its coordinate\n",
    "# and customize the Marker's icon property to indicate if this launch was successed or failed, \n",
    "# e.g., icon=folium.Icon(color='white', icon_color=row['marker_color']\n",
    "\n",
    "for index, record in spacex_df.iterrows():\n",
    "    launchsite=record['Launch Site']\n",
    "    # Create and add a Marker cluster to the site map\n",
    "    marker = folium.Marker([record['Lat'], record['Long']], \n",
    "                  icon=folium.Icon(color='white', icon_color=record['marker_color'],html='<div style=\"font-size: 12; color:#d35400;\"><b>%s</b></div>' % launchsite,))\n",
    "    marker_cluster.add_child(marker)\n",
    "site_map"
   ]
  },
  {
   "cell_type": "markdown",
   "id": "b6c14adf",
   "metadata": {},
   "source": [
    "**For each launch result in spacex_df data frame, adding a folium.Marker to marker_cluster**"
   ]
  },
  {
   "cell_type": "code",
   "execution_count": null,
   "id": "83cac62c",
   "metadata": {},
   "outputs": [],
   "source": [
    "# Add marker_cluster to current site_map\n",
    "marker_cluster=folium.plugins.MarkerCluster()\n",
    "site_map.add_child(marker_cluster)\n",
    "# for each row in spacex_df data frame\n",
    "# create a Marker object with its coordinate\n",
    "# and customize the Marker's icon property to indicate if this launch was successed or failed, \n",
    "# e.g., icon=folium.Icon(color='white', icon_color=row['marker_color']\n",
    "for index, record in spacex_df.iterrows():\n",
    "    launchsite=record['Launch Site']\n",
    "    # Create and add a Marker cluster to the site map\n",
    "    marker = folium.Marker([record['Lat'], record['Long']], \n",
    "                  icon=folium.Icon(color='white', icon_color=record['marker_color'],html='<div style=\"font-size: 12; color:#d35400;\"><b>%s</b></div>' % launchsite,))\n",
    "    marker_cluster.add_child(marker)\n",
    "site_map"
   ]
  },
  {
   "cell_type": "markdown",
   "id": "d969f363",
   "metadata": {},
   "source": [
    "**Calculating the distances between a launch site to its proximities**"
   ]
  },
  {
   "cell_type": "markdown",
   "id": "a1087972",
   "metadata": {},
   "source": [
    "Adding a MousePosition on the map to get coordinate for a mouse over a point on the map."
   ]
  },
  {
   "cell_type": "code",
   "execution_count": null,
   "id": "cc568aa0",
   "metadata": {},
   "outputs": [],
   "source": [
    "# Add Mouse Position to get the coordinate (Lat, Long) for a mouse over on the map\n",
    "formatter = \"function(num) {return L.Util.formatNum(num, 5);};\"\n",
    "mouse_position = MousePosition(\n",
    "    position='topright',\n",
    "    separator=' Long: ',\n",
    "    empty_string='NaN',\n",
    "    lng_first=False,\n",
    "    num_digits=20,\n",
    "    prefix='Lat:',\n",
    "    lat_formatter=formatter,\n",
    "    lng_formatter=formatter,\n",
    ")\n",
    "\n",
    "site_map.add_child(mouse_position)\n",
    "site_map"
   ]
  },
  {
   "cell_type": "markdown",
   "id": "946cdee9",
   "metadata": {},
   "source": [
    "We can calculate the distance between two points on the map based on their Lat and Long values using the following method:"
   ]
  },
  {
   "cell_type": "code",
   "execution_count": null,
   "id": "26387d02",
   "metadata": {},
   "outputs": [],
   "source": [
    "from math import sin, cos, sqrt, atan2, radians\n",
    "\n",
    "def calculate_distance(lat1, lon1, lat2, lon2):\n",
    "    # approximate radius of earth in km\n",
    "    R = 6373.0\n",
    "\n",
    "    lat1 = radians(lat1)\n",
    "    lon1 = radians(lon1)\n",
    "    lat2 = radians(lat2)\n",
    "    lon2 = radians(lon2)\n",
    "\n",
    "    dlon = lon2 - lon1\n",
    "    dlat = lat2 - lat1\n",
    "\n",
    "    a = sin(dlat / 2)**2 + cos(lat1) * cos(lat2) * sin(dlon / 2)**2\n",
    "    c = 2 * atan2(sqrt(a), sqrt(1 - a))\n",
    "\n",
    "    distance = R * c\n",
    "    return distance"
   ]
  },
  {
   "cell_type": "code",
   "execution_count": null,
   "id": "6adb16d6",
   "metadata": {},
   "outputs": [],
   "source": [
    "import math\n",
    "\n",
    "def calculate_distance(lat1, lon1, lat2, lon2):\n",
    "  # Convert latitude and longitude to \n",
    "  # spherical coordinates in radians.\n",
    "  degrees_to_radians = math.pi/180.0\n",
    "        \n",
    "  # phi = 90 - latitude\n",
    "  phi1 = (90.0 - lat1)*degrees_to_radians\n",
    "  phi2 = (90.0 - lat2)*degrees_to_radians\n",
    "        \n",
    "  # theta = longitude\n",
    "  theta1 = lon1*degrees_to_radians\n",
    "  theta2 = lon2*degrees_to_radians\n",
    "        \n",
    "  # Compute spherical distance from spherical coordinates.\n",
    "        \n",
    "  # For two locations in spherical coordinates \n",
    "  # (1, theta, phi) and (1, theta, phi)\n",
    "  # cosine( arc length ) = \n",
    "  #    sin phi sin phi' cos(theta-theta') + cos phi cos phi'\n",
    "  # distance = rho * arc length\n",
    "    \n",
    "  cos = (math.sin(phi1)*math.sin(phi2)*math.cos(theta1 - theta2) + \n",
    "         math.cos(phi1)*math.cos(phi2))\n",
    "  arc = math.acos( cos )\n",
    " \n",
    "  # Remember to multiply arc by the radius of the earth \n",
    "  # in your favorite set of units to get length.\n",
    "  return arc"
   ]
  },
  {
   "cell_type": "code",
   "execution_count": null,
   "id": "305470d7",
   "metadata": {},
   "outputs": [],
   "source": [
    "distance = calculate_distance(28.57468,-80.65229,28.573255 ,-80.646895)\n",
    "distance"
   ]
  },
  {
   "cell_type": "code",
   "execution_count": null,
   "id": "1af041f4",
   "metadata": {
    "scrolled": true
   },
   "outputs": [],
   "source": [
    "# Creating and adding a folium.Marker on selected closest railway point on the map\n",
    "# Displaying the distance between railway point and launch site using the icon property \n",
    "coordinate = [28.57468,-80.65229]\n",
    "distance_marker = folium.Marker(\n",
    "    coordinate,\n",
    "    icon=DivIcon(\n",
    "        icon_size=(20,20),\n",
    "        icon_anchor=(0,0),\n",
    "        html='<div style=\"font-size: 12; color:#d35400;\"><b>%s</b></div>' % \"{:10.2f} KM\".format(distance),\n",
    "        )\n",
    "    )\n",
    "site_map.add_child(distance_marker)\n",
    "site_map"
   ]
  },
  {
   "cell_type": "markdown",
   "id": "b38db022",
   "metadata": {},
   "source": [
    "**Drawing a PolyLine between a launch site to the selected railway point**"
   ]
  },
  {
   "cell_type": "code",
   "execution_count": null,
   "id": "39cdd2bb",
   "metadata": {},
   "outputs": [],
   "source": [
    "# Creating a `folium.PolyLine` object using the railway point coordinate and launch site coordinate\n",
    "coordinates=[[28.57468,-80.65229],[28.573255 ,-80.646895]]\n",
    "lines=folium.PolyLine(locations=coordinates, weight=1)\n",
    "site_map.add_child(lines)"
   ]
  },
  {
   "cell_type": "markdown",
   "id": "d8c13641",
   "metadata": {},
   "source": [
    "**Similarly, drawing a line betwee a launch site to its closest city, coastline, highway, etc**"
   ]
  },
  {
   "cell_type": "code",
   "execution_count": null,
   "id": "a0c988ba",
   "metadata": {},
   "outputs": [],
   "source": [
    "# Creating a marker with distance to a closest city, coastline, highway, etc.\n",
    "# Drawing a line between the marker to the launch site\n",
    "coordinates=[[28.57468,-80.65229],[28.57322 ,-80.60703],[28.5248,-80.6446],[28.53386,-81.38535]]\n",
    "coordinate=[28.573255 ,-80.646895]\n",
    "for x in coordinates:\n",
    "    lines=folium.PolyLine(locations=[x,coordinate], weight=1)\n",
    "    site_map.add_child(lines)\n",
    "\n",
    "    distance_marker = folium.Marker(\n",
    "        x,\n",
    "        icon=DivIcon(\n",
    "            icon_size=(20,20),\n",
    "            icon_anchor=(0,0),\n",
    "            html='<div style=\"font-size: 12; color:#d35400;\"><b>%s</b></div>' % \"{:10.2f} KM\".format(calculate_distance(x[0],x[1],coordinate[0] ,coordinate[1])),\n",
    "        )\n",
    "    )\n",
    "    site_map.add_child(distance_marker)\n",
    "site_map"
   ]
  },
  {
   "cell_type": "code",
   "execution_count": null,
   "id": "ec9f4ca8",
   "metadata": {},
   "outputs": [],
   "source": [
    "coordinates=[[28.57367, -80.58472],[28.5248,-80.64],[28.563197, -80.56772],[28.56,-81.38535]]\n",
    "coordinate=[28.562302,-80.577356]\n",
    "for x in coordinates:\n",
    "    lines=folium.PolyLine(locations=[x,coordinate], weight=1)\n",
    "    site_map.add_child(lines)\n",
    "\n",
    "    distance_marker = folium.Marker(\n",
    "        x,\n",
    "        icon=DivIcon(\n",
    "            icon_size=(20,20),\n",
    "            icon_anchor=(0,0),\n",
    "            html='<div style=\"font-size: 12; color:#d35400;\"><b>%s</b></div>' % \"{:10.2f} KM\".format(calculate_distance(x[0],x[1],coordinate[0] ,coordinate[1])),\n",
    "        )\n",
    "    )\n",
    "    site_map.add_child(distance_marker)\n",
    "site_map"
   ]
  },
  {
   "cell_type": "code",
   "execution_count": null,
   "id": "e4b5adda",
   "metadata": {},
   "outputs": [],
   "source": [
    "coordinates=[[34.63141, -120.62568],[34.66992, -120.45753],[34.6336, -120.62606],[34.63658, -120.4542]]\n",
    "coordinate=[34.632834, -120.610746]\n",
    "for x in coordinates:\n",
    "    lines=folium.PolyLine(locations=[x,coordinate], weight=1)\n",
    "    site_map.add_child(lines)\n",
    "\n",
    "    distance_marker = folium.Marker(\n",
    "        x,\n",
    "        icon=DivIcon(\n",
    "            icon_size=(20,20),\n",
    "            icon_anchor=(0,0),\n",
    "            html='<div style=\"font-size: 12; color:#d35400;\"><b>%s</b></div>' % \"{:10.2f} KM\".format(calculate_distance(x[0],x[1],coordinate[0] ,coordinate[1])),\n",
    "        )\n",
    "    )\n",
    "    site_map.add_child(distance_marker)\n",
    "site_map"
   ]
  },
  {
   "cell_type": "markdown",
   "id": "0e5bba18",
   "metadata": {},
   "source": [
    "**Observations**\n",
    "- Launch Sites are in close proximity to coast.\n",
    "- Launch Sites are also close to Major Highways and Railway for logistic purposes.\n",
    "- Launch sites are far from dense human habitats like cities."
   ]
  },
  {
   "cell_type": "code",
   "execution_count": null,
   "id": "28b6c115",
   "metadata": {},
   "outputs": [],
   "source": [
    "combined_df = pd.concat([train_encoded, cleaned_df['Class']], axis=1)\n",
    "combined_df.shape"
   ]
  },
  {
   "cell_type": "code",
   "execution_count": null,
   "id": "a0890d5b",
   "metadata": {},
   "outputs": [],
   "source": [
    "train_df=combined_df.copy(deep=True)"
   ]
  },
  {
   "cell_type": "markdown",
   "id": "ef40fa5c",
   "metadata": {},
   "source": [
    "## Machine Learning Prediction"
   ]
  },
  {
   "cell_type": "markdown",
   "id": "ba28224f",
   "metadata": {},
   "source": [
    "- Standardize the data\n",
    "- Split into training data and test data\n",
    "- Find best Hyperparameters for SVM, Decision Tree, KNN and Logistic Regression.\n",
    "- Find the method performs best using test data among all classification models."
   ]
  },
  {
   "cell_type": "code",
   "execution_count": null,
   "id": "1f35867f",
   "metadata": {},
   "outputs": [],
   "source": [
    "from sklearn import preprocessing\n",
    "\n",
    "# Allows us to split our data into training and testing data\n",
    "from sklearn.model_selection import train_test_split\n",
    "\n",
    "# Allows us to test parameters of classification algorithms and find the best one\n",
    "from sklearn.model_selection import GridSearchCV\n",
    "\n",
    "# Logistic Regression classification algorithm\n",
    "from sklearn.linear_model import LogisticRegression\n",
    "\n",
    "# Support Vector Machine classification algorithm\n",
    "from sklearn.svm import SVC\n",
    "\n",
    "# Decision Tree classification algorithm\n",
    "from sklearn.tree import DecisionTreeClassifier\n",
    "\n",
    "# K Nearest Neighbors classification algorithm\n",
    "from sklearn.neighbors import KNeighborsClassifier\n",
    "\n",
    "# Random Forest Classifier algorithm\n",
    "from sklearn.ensemble import RandomForestClassifier\n",
    "\n",
    "# Extreme Gradient Boosting Classification algorithm\n",
    "from xgboost import XGBClassifier\n",
    "\n",
    "# Metrices\n",
    "from sklearn.metrics import (accuracy_score, f1_score,average_precision_score, confusion_matrix,\n",
    "                             average_precision_score, precision_score, recall_score, roc_auc_score, )"
   ]
  },
  {
   "cell_type": "markdown",
   "id": "7415fbed",
   "metadata": {},
   "source": [
    "**Defining function to plot confusion matrix**"
   ]
  },
  {
   "cell_type": "code",
   "execution_count": null,
   "id": "259d3bed",
   "metadata": {},
   "outputs": [],
   "source": [
    "def plot_confusion_matrix(y,y_predict):\n",
    "    \"this function plots the confusion matrix\"\n",
    "    from sklearn.metrics import confusion_matrix\n",
    "\n",
    "    cm = confusion_matrix(y, y_predict)\n",
    "    ax= plt.subplot()\n",
    "    sns.heatmap(cm, annot=True, ax = ax); #annot=True to annotate cells\n",
    "    ax.set_xlabel('Predicted labels')\n",
    "    ax.set_ylabel('True labels')\n",
    "    ax.set_title('Confusion Matrix'); \n",
    "    ax.xaxis.set_ticklabels(['did not land', 'land']); ax.yaxis.set_ticklabels(['did not land', 'landed'])"
   ]
  },
  {
   "cell_type": "markdown",
   "id": "f8261080",
   "metadata": {},
   "source": [
    "**Predictor Variables**"
   ]
  },
  {
   "cell_type": "code",
   "execution_count": null,
   "id": "38c66140",
   "metadata": {},
   "outputs": [],
   "source": [
    "X=train_encoded\n",
    "X.head(5)"
   ]
  },
  {
   "cell_type": "markdown",
   "id": "87a637dd",
   "metadata": {},
   "source": [
    "**Creating a NumPy array of Target Variable from the column Class in df**"
   ]
  },
  {
   "cell_type": "code",
   "execution_count": null,
   "id": "843e0912",
   "metadata": {},
   "outputs": [],
   "source": [
    "y=combined_df['Class'].to_numpy()\n",
    "y"
   ]
  },
  {
   "cell_type": "markdown",
   "id": "6a5df190",
   "metadata": {},
   "source": [
    "### Feature Scaling"
   ]
  },
  {
   "cell_type": "code",
   "execution_count": null,
   "id": "c241e642",
   "metadata": {},
   "outputs": [],
   "source": [
    "transform = preprocessing.StandardScaler()"
   ]
  },
  {
   "cell_type": "code",
   "execution_count": null,
   "id": "74da5f40",
   "metadata": {},
   "outputs": [],
   "source": [
    "X=transform.fit_transform(X)\n",
    "X"
   ]
  },
  {
   "cell_type": "markdown",
   "id": "3ffb1c28",
   "metadata": {},
   "source": [
    "**Splitting data into train and test sets**"
   ]
  },
  {
   "cell_type": "code",
   "execution_count": null,
   "id": "d5971bc4",
   "metadata": {},
   "outputs": [],
   "source": [
    "X_train,X_test,y_train,y_test=train_test_split(X, y, test_size=0.2, random_state=2)"
   ]
  },
  {
   "cell_type": "code",
   "execution_count": null,
   "id": "162f00a7",
   "metadata": {},
   "outputs": [],
   "source": [
    "y_test.shape"
   ]
  },
  {
   "cell_type": "code",
   "execution_count": null,
   "id": "35650441",
   "metadata": {},
   "outputs": [],
   "source": [
    "X_test.shape"
   ]
  },
  {
   "cell_type": "markdown",
   "id": "41db9eb8",
   "metadata": {},
   "source": [
    "## Classification Algorithms"
   ]
  },
  {
   "cell_type": "markdown",
   "id": "ec615057",
   "metadata": {},
   "source": [
    "### 1.Logistic Regression"
   ]
  },
  {
   "cell_type": "code",
   "execution_count": null,
   "id": "22ca0ab6",
   "metadata": {},
   "outputs": [],
   "source": [
    "parameters ={'C':[0.01,0.1,1],\n",
    "             'penalty':['l1','l2'],\n",
    "             'solver':['lbfgs']}"
   ]
  },
  {
   "cell_type": "code",
   "execution_count": null,
   "id": "92498c43",
   "metadata": {},
   "outputs": [],
   "source": [
    "parameters ={\"C\":[0.01,0.1,1],'penalty':['l2'], 'solver':['lbfgs']}\n",
    "# l1: Lasso, l2: Ridge\n",
    "lr=LogisticRegression()"
   ]
  },
  {
   "cell_type": "code",
   "execution_count": null,
   "id": "dae9d04e",
   "metadata": {},
   "outputs": [],
   "source": [
    "logreg_cv=GridSearchCV(lr,parameters, cv=10)\n",
    "logreg_cv.fit(X_train,y_train)\n",
    "print(\"tuned hpyerparameters :(best parameters) \",logreg_cv.best_params_)\n",
    "print(\"accuracy :\",logreg_cv.best_score_)"
   ]
  },
  {
   "cell_type": "markdown",
   "id": "8893a3da",
   "metadata": {},
   "source": [
    "**Accuracy of Logistic Regression on test data**"
   ]
  },
  {
   "cell_type": "code",
   "execution_count": null,
   "id": "6216dc14",
   "metadata": {},
   "outputs": [],
   "source": [
    "print('Accuracy on test data is: {:.3f}'.format(logreg_cv.score(X_test, y_test)))"
   ]
  },
  {
   "cell_type": "markdown",
   "id": "5359207f",
   "metadata": {},
   "source": [
    "**Confusion Matrix for Logistic Regression**"
   ]
  },
  {
   "cell_type": "code",
   "execution_count": null,
   "id": "ada4c6c6",
   "metadata": {},
   "outputs": [],
   "source": [
    "y_hat=logreg_cv.predict(X_test)\n",
    "plot_confusion_matrix(y_test,y_hat)"
   ]
  },
  {
   "cell_type": "markdown",
   "id": "6b21994e",
   "metadata": {},
   "source": [
    "Logistic regression classified successful/unsuccessful landings well only problem is the false positives."
   ]
  },
  {
   "cell_type": "markdown",
   "id": "d6b2278a",
   "metadata": {},
   "source": [
    "### 2. Support Vector Machine Classifier"
   ]
  },
  {
   "cell_type": "code",
   "execution_count": null,
   "id": "83379e82",
   "metadata": {},
   "outputs": [],
   "source": [
    "parameters = {'kernel':('linear', 'rbf','poly','rbf', 'sigmoid'),\n",
    "              'C': np.logspace(-3, 3, 5),\n",
    "              'gamma':np.logspace(-3, 3, 5)}\n",
    "svm = SVC()"
   ]
  },
  {
   "cell_type": "code",
   "execution_count": null,
   "id": "4f84a81d",
   "metadata": {},
   "outputs": [],
   "source": [
    "svm_cv=GridSearchCV(svm, parameters, cv=10)\n",
    "svm_cv.fit(X_train,y_train)"
   ]
  },
  {
   "cell_type": "code",
   "execution_count": null,
   "id": "282afc40",
   "metadata": {},
   "outputs": [],
   "source": [
    "print(\"tuned hpyerparameters :(best parameters) \",svm_cv.best_params_)\n",
    "print(\"accuracy :\",svm_cv.best_score_)"
   ]
  },
  {
   "cell_type": "markdown",
   "id": "e27f05ee",
   "metadata": {},
   "source": [
    "**Accuracy of SVM on the test data**"
   ]
  },
  {
   "cell_type": "code",
   "execution_count": null,
   "id": "fc47b85d",
   "metadata": {},
   "outputs": [],
   "source": [
    "print('Accuracy on test data is: {:.3f}'.format(svm_cv.score(X_test, y_test)))"
   ]
  },
  {
   "cell_type": "markdown",
   "id": "b14ced08",
   "metadata": {},
   "source": [
    "**Confusion Matrix for SVM**"
   ]
  },
  {
   "cell_type": "code",
   "execution_count": null,
   "id": "8b5034f4",
   "metadata": {},
   "outputs": [],
   "source": [
    "y_hat=svm_cv.predict(X_test)\n",
    "plot_confusion_matrix(y_test,y_hat)"
   ]
  },
  {
   "cell_type": "markdown",
   "id": "af5a36eb",
   "metadata": {},
   "source": [
    "### 3. Decision Tree Classifier"
   ]
  },
  {
   "cell_type": "code",
   "execution_count": null,
   "id": "15e3c726",
   "metadata": {},
   "outputs": [],
   "source": [
    "parameters = {'criterion': ['gini', 'entropy'],\n",
    "     'splitter': ['best', 'random'],\n",
    "     'max_depth': [2*n for n in range(1,10)],\n",
    "     'max_features': ['auto', 'sqrt'],\n",
    "     'min_samples_leaf': [1, 2, 4],\n",
    "     'min_samples_split': [2, 5, 10]}\n",
    "\n",
    "predtree = DecisionTreeClassifier()"
   ]
  },
  {
   "cell_type": "code",
   "execution_count": null,
   "id": "980792e9",
   "metadata": {},
   "outputs": [],
   "source": [
    "tree_cv=GridSearchCV(predtree, parameters, cv=10, scoring='accuracy')\n",
    "tree_cv.fit(X_train,y_train)"
   ]
  },
  {
   "cell_type": "code",
   "execution_count": null,
   "id": "0d78073a",
   "metadata": {},
   "outputs": [],
   "source": [
    "print(\"tuned hpyerparameters :(best parameters) \",tree_cv.best_params_)\n",
    "print(\"accuracy :\",tree_cv.best_score_)"
   ]
  },
  {
   "cell_type": "markdown",
   "id": "9cf03ea8",
   "metadata": {},
   "source": [
    "**Accuracy of Decision Tree Classifier on test data**"
   ]
  },
  {
   "cell_type": "code",
   "execution_count": null,
   "id": "54f7237c",
   "metadata": {},
   "outputs": [],
   "source": [
    "print('Accuracy on test data is: {:.3f}'.format(tree_cv.score(X_test, y_test)))"
   ]
  },
  {
   "cell_type": "markdown",
   "id": "7f37b99e",
   "metadata": {},
   "source": [
    "**Confusion Matrix for Decision Tree Classifier**"
   ]
  },
  {
   "cell_type": "code",
   "execution_count": null,
   "id": "bf33eba3",
   "metadata": {},
   "outputs": [],
   "source": [
    "y_hat = tree_cv.predict(X_test)\n",
    "plot_confusion_matrix(y_test,y_hat)"
   ]
  },
  {
   "cell_type": "markdown",
   "id": "fb538d3c",
   "metadata": {},
   "source": [
    "**Distribution Plot**"
   ]
  },
  {
   "cell_type": "code",
   "execution_count": null,
   "id": "73062de1",
   "metadata": {},
   "outputs": [],
   "source": [
    "ax = sns.distplot(y_test, hist=False, color=\"r\", label=\"Actual Value\")\n",
    "sns.distplot(y_hat, hist=False, color=\"b\", label=\"Fitted Values\" , ax=ax)"
   ]
  },
  {
   "cell_type": "markdown",
   "id": "fe62594d",
   "metadata": {},
   "source": [
    "The more overlapping of two colors, the more accurate the model is."
   ]
  },
  {
   "cell_type": "code",
   "execution_count": null,
   "id": "cc0a360b",
   "metadata": {},
   "outputs": [],
   "source": [
    "from sklearn.metrics import accuracy_score, mean_absolute_error, r2_score\n",
    "print(\"Accuracy Score: \", accuracy_score(y_test, y_hat))\n",
    "print(\"Mean Absolute Error: \", mean_absolute_error(y_test, y_hat))\n",
    "print(\"R2 Score: \", r2_score(y_test, y_hat))"
   ]
  },
  {
   "cell_type": "code",
   "execution_count": null,
   "id": "55642fdf",
   "metadata": {},
   "outputs": [],
   "source": []
  },
  {
   "cell_type": "code",
   "execution_count": null,
   "id": "4e9cc992",
   "metadata": {},
   "outputs": [],
   "source": []
  },
  {
   "cell_type": "code",
   "execution_count": null,
   "id": "cb60562c",
   "metadata": {},
   "outputs": [],
   "source": []
  },
  {
   "cell_type": "markdown",
   "id": "4cf79704",
   "metadata": {},
   "source": [
    "### 4. K Nearest Neighbours Classification"
   ]
  },
  {
   "cell_type": "code",
   "execution_count": null,
   "id": "6cee6abf",
   "metadata": {},
   "outputs": [],
   "source": [
    "parameters = {'n_neighbors': [1, 2, 3, 4, 5, 6, 7, 8, 9, 10],\n",
    "              'algorithm': ['auto', 'ball_tree', 'kd_tree', 'brute'],\n",
    "              'p': [1,2]}\n",
    "\n",
    "KNN = KNeighborsClassifier()"
   ]
  },
  {
   "cell_type": "code",
   "execution_count": null,
   "id": "6ef46cad",
   "metadata": {},
   "outputs": [],
   "source": [
    "knn_cv=GridSearchCV(KNN, parameters, cv=10)\n",
    "knn_cv.fit(X_train,y_train)"
   ]
  },
  {
   "cell_type": "code",
   "execution_count": null,
   "id": "8aab6a59",
   "metadata": {},
   "outputs": [],
   "source": [
    "print(\"tuned hpyerparameters :(best parameters) \",knn_cv.best_params_)\n",
    "print(\"accuracy :\",knn_cv.best_score_)"
   ]
  },
  {
   "cell_type": "markdown",
   "id": "4e92ba32",
   "metadata": {},
   "source": [
    "**Accuracy of KNN Algorithm on test data**"
   ]
  },
  {
   "cell_type": "code",
   "execution_count": null,
   "id": "ff029910",
   "metadata": {},
   "outputs": [],
   "source": [
    "print('Accuracy on test data is: {:.3f}'.format(knn_cv.score(X_test, y_test)))"
   ]
  },
  {
   "cell_type": "markdown",
   "id": "14067e2a",
   "metadata": {},
   "source": [
    "**Cofusion Matrix for KNN Classifier**"
   ]
  },
  {
   "cell_type": "code",
   "execution_count": null,
   "id": "d2257cc4",
   "metadata": {},
   "outputs": [],
   "source": [
    "y_hat = knn_cv.predict(X_test)\n",
    "plot_confusion_matrix(y_test,y_hat)"
   ]
  },
  {
   "cell_type": "markdown",
   "id": "f081c0c0",
   "metadata": {},
   "source": [
    "### 5. Random Forest Classification"
   ]
  },
  {
   "cell_type": "code",
   "execution_count": null,
   "id": "78648854",
   "metadata": {},
   "outputs": [],
   "source": [
    "clf_rf = RandomForestClassifier(criterion='gini', max_depth= 18, n_estimators=200, max_features='sqrt', min_samples_leaf= 1, min_samples_split= 2, random_state=200)\n",
    "clf_rf.fit(X_train,y_train)"
   ]
  },
  {
   "cell_type": "code",
   "execution_count": null,
   "id": "e8f77b2b",
   "metadata": {},
   "outputs": [],
   "source": [
    "Ypred_train=clf_rf.predict(X_train)"
   ]
  },
  {
   "cell_type": "code",
   "execution_count": null,
   "id": "a894a5df",
   "metadata": {},
   "outputs": [],
   "source": [
    "Rftrainscore=clf_rf.score(X_train,y_train)"
   ]
  },
  {
   "cell_type": "code",
   "execution_count": null,
   "id": "5358aad2",
   "metadata": {},
   "outputs": [],
   "source": [
    "print(\"Accuracy of Random Forest Classifier on train data:\", Rftrainscore)"
   ]
  },
  {
   "cell_type": "code",
   "execution_count": null,
   "id": "8167018a",
   "metadata": {},
   "outputs": [],
   "source": [
    "Rftestscore=clf_rf.score(X_test,y_test)"
   ]
  },
  {
   "cell_type": "code",
   "execution_count": null,
   "id": "e0ef8ea4",
   "metadata": {},
   "outputs": [],
   "source": [
    "print('Accuracy of Random Forest Classifier on test data:',Rftestscore)"
   ]
  },
  {
   "cell_type": "code",
   "execution_count": null,
   "id": "08db4f87",
   "metadata": {},
   "outputs": [],
   "source": [
    "Ypred=clf_rf.predict(X_test)"
   ]
  },
  {
   "cell_type": "code",
   "execution_count": null,
   "id": "b14ffe86",
   "metadata": {},
   "outputs": [],
   "source": [
    "plot_confusion_matrix(y_test,Ypred)"
   ]
  },
  {
   "cell_type": "markdown",
   "id": "7c7de617",
   "metadata": {},
   "source": [
    "### 6. Extreme Gradient Boosting Classification"
   ]
  },
  {
   "cell_type": "code",
   "execution_count": null,
   "id": "7a7a92c6",
   "metadata": {},
   "outputs": [],
   "source": [
    "clf_xgb = XGBClassifier(max_depth = 10,random_state = 10,n_estimators=100, eval_metric = 'auc', min_child_weight = 3,\n",
    "                    colsample_bytree = 0.75, subsample= 0.9)\n",
    "clf_xgb.fit(X_train,y_train)"
   ]
  },
  {
   "cell_type": "code",
   "execution_count": null,
   "id": "580a4df6",
   "metadata": {},
   "outputs": [],
   "source": [
    "XGBtrainscore=clf_xgb.score(X_train,y_train)"
   ]
  },
  {
   "cell_type": "code",
   "execution_count": null,
   "id": "69221464",
   "metadata": {},
   "outputs": [],
   "source": [
    "print('Accuracy of XGBClassifier on train data:',XGBtrainscore)"
   ]
  },
  {
   "cell_type": "code",
   "execution_count": null,
   "id": "f5f39873",
   "metadata": {},
   "outputs": [],
   "source": [
    "XGBtestscore=clf_xgb.score(X_test,y_test)"
   ]
  },
  {
   "cell_type": "code",
   "execution_count": null,
   "id": "e09a5a02",
   "metadata": {},
   "outputs": [],
   "source": [
    "print('Accuracy of XGBClassifier on test data:',XGBtestscore)"
   ]
  },
  {
   "cell_type": "code",
   "execution_count": null,
   "id": "f7f4b6e4",
   "metadata": {},
   "outputs": [],
   "source": [
    "Ypred_xgb=clf_xgb.predict(X_test)"
   ]
  },
  {
   "cell_type": "code",
   "execution_count": null,
   "id": "c83bbf29",
   "metadata": {},
   "outputs": [],
   "source": [
    "plot_confusion_matrix(y_test,Ypred)"
   ]
  },
  {
   "cell_type": "markdown",
   "id": "7d1ebeb3",
   "metadata": {},
   "source": [
    "### Finding the best model\n",
    "Accuracy Comparison of different algorithms on training data"
   ]
  },
  {
   "cell_type": "code",
   "execution_count": null,
   "id": "73697aa4",
   "metadata": {},
   "outputs": [],
   "source": [
    "algorithms = {'KNN':knn_cv.best_score_,'Decision Tree':tree_cv.best_score_,\n",
    "              'LogisticRegression':logreg_cv.best_score_,'SVM':svm_cv.best_score_,\n",
    "              'RandomForest':Rftrainscore,'XGBClassifier':XGBtrainscore}\n",
    "bestalgorithm = max(algorithms, key=algorithms.get)\n",
    "print('Best Algorithm is',bestalgorithm,'with a score of',algorithms[bestalgorithm])"
   ]
  },
  {
   "cell_type": "code",
   "execution_count": null,
   "id": "c99edc4f",
   "metadata": {},
   "outputs": [],
   "source": [
    "score_df = pd.DataFrame.from_dict(algorithms, orient='index', columns=['Train Data Accuracy'])\n",
    "score_df.sort_values(['Train Data Accuracy'], inplace=True)\n",
    "score_df.head(6)"
   ]
  },
  {
   "cell_type": "code",
   "execution_count": null,
   "id": "dd90724b",
   "metadata": {},
   "outputs": [],
   "source": [
    "score_df = score_df.reset_index()\n",
    "score_df.rename(columns = {'index': 'Algorithm'}, inplace = True)\n",
    "score_df.head(6)"
   ]
  },
  {
   "cell_type": "code",
   "execution_count": null,
   "id": "42b3a498",
   "metadata": {},
   "outputs": [],
   "source": [
    "import plotly.express as px\n",
    "import plotly.graph_objects as go"
   ]
  },
  {
   "cell_type": "code",
   "execution_count": null,
   "id": "bc90f018",
   "metadata": {},
   "outputs": [],
   "source": [
    "fig = px.bar(score_df, x='Algorithm', y='Train Data Accuracy', hover_data=['Algorithm', 'Train Data Accuracy'], color='Algorithm')\n",
    "fig.update_layout(title='Algorithm vs. Train Data Accuracy', xaxis_title='Algorithm', yaxis_title='Train Data Accuracy' )\n",
    "fig.show()"
   ]
  },
  {
   "cell_type": "markdown",
   "id": "763c17ff",
   "metadata": {},
   "source": [
    "**Accuracy comparison of different algorithms on test data**"
   ]
  },
  {
   "cell_type": "code",
   "execution_count": null,
   "id": "1d5310f6",
   "metadata": {},
   "outputs": [],
   "source": [
    "algorithms2 = {'KNN':knn_cv.score(X_test, y_test),\n",
    "               'Tree':tree_cv.score(X_test, y_test),\n",
    "               'LogisticRegression':logreg_cv.score(X_test, y_test),\n",
    "               'SVM':svm_cv.score(X_test, y_test),\n",
    "               'RandomForest':Rftestscore,'XGBClassifier':XGBtestscore}\n",
    "bestalgorithm2 = max(algorithms2, key=algorithms2.get)\n",
    "print('Best Algorithm is',bestalgorithm2,'with a score of',algorithms2[bestalgorithm2])"
   ]
  },
  {
   "cell_type": "code",
   "execution_count": null,
   "id": "f135ebfe",
   "metadata": {},
   "outputs": [],
   "source": [
    "score_df1 = pd.DataFrame.from_dict(algorithms2, orient='index', columns=['Test Data Accuracy'])\n",
    "score_df1.sort_values(['Test Data Accuracy'], inplace=True)\n",
    "score_df1 = score_df1.reset_index()\n",
    "score_df1.rename(columns = {'index': 'Algorithm'}, inplace = True)\n",
    "score_df1.head(6)"
   ]
  },
  {
   "cell_type": "code",
   "execution_count": null,
   "id": "3a196ef7",
   "metadata": {},
   "outputs": [],
   "source": [
    "import plotly.express as px\n",
    "import plotly.graph_objects as go\n",
    "fig = px.bar(score_df1, x='Algorithm', y='Test Data Accuracy', hover_data=['Algorithm', 'Test Data Accuracy'], color='Algorithm')\n",
    "fig.update_layout(title='Algorithm vs. Test Data Accuracy', xaxis_title='Algorithm', yaxis_title='Test Data Accuracy' )\n",
    "fig.show()"
   ]
  },
  {
   "cell_type": "code",
   "execution_count": null,
   "id": "842db981",
   "metadata": {},
   "outputs": [],
   "source": []
  },
  {
   "cell_type": "code",
   "execution_count": null,
   "id": "40831a5a",
   "metadata": {},
   "outputs": [],
   "source": []
  }
 ],
 "metadata": {
  "kernelspec": {
   "display_name": "Python 3 (ipykernel)",
   "language": "python",
   "name": "python3"
  },
  "language_info": {
   "codemirror_mode": {
    "name": "ipython",
    "version": 3
   },
   "file_extension": ".py",
   "mimetype": "text/x-python",
   "name": "python",
   "nbconvert_exporter": "python",
   "pygments_lexer": "ipython3",
   "version": "3.11.4"
  }
 },
 "nbformat": 4,
 "nbformat_minor": 5
}
